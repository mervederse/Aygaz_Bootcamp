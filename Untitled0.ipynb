{
  "nbformat": 4,
  "nbformat_minor": 0,
  "metadata": {
    "colab": {
      "provenance": [],
      "mount_file_id": "1uPEuMiphgMpqFkm6rcgGVGtRndBtTGxZ",
      "authorship_tag": "ABX9TyPkJiAlzpvZv796ZiSJ9viD",
      "include_colab_link": true
    },
    "kernelspec": {
      "name": "python3",
      "display_name": "Python 3"
    },
    "language_info": {
      "name": "python"
    }
  },
  "cells": [
    {
      "cell_type": "markdown",
      "metadata": {
        "id": "view-in-github",
        "colab_type": "text"
      },
      "source": [
        "<a href=\"https://colab.research.google.com/github/mervederse/Aygaz_Bootcamp/blob/main/Untitled0.ipynb\" target=\"_parent\"><img src=\"https://colab.research.google.com/assets/colab-badge.svg\" alt=\"Open In Colab\"/></a>"
      ]
    },
    {
      "cell_type": "code",
      "execution_count": 315,
      "metadata": {
        "colab": {
          "base_uri": "https://localhost:8080/"
        },
        "id": "dvJ4_3Z09beH",
        "outputId": "72c28009-911c-4398-ef00-c2266d4f930a"
      },
      "outputs": [
        {
          "output_type": "stream",
          "name": "stdout",
          "text": [
            "Mounted at /content/gdrive\n"
          ]
        }
      ],
      "source": [
        "from google.colab import drive\n",
        "drive.mount('/content/gdrive', force_remount=True)"
      ]
    },
    {
      "cell_type": "code",
      "source": [
        "import pandas as pd\n",
        "import numpy as np\n",
        "import seaborn as sns\n",
        "import matplotlib.pyplot as plt\n",
        "import sklearn"
      ],
      "metadata": {
        "id": "Yp0GuaCJCHT-"
      },
      "execution_count": 316,
      "outputs": []
    },
    {
      "cell_type": "code",
      "source": [
        "insurance = pd.read_csv(\"/content/gdrive/MyDrive/Kaggle/insurance.csv\")\n",
        "data = insurance.copy()\n",
        "data"
      ],
      "metadata": {
        "colab": {
          "base_uri": "https://localhost:8080/",
          "height": 423
        },
        "id": "TZKeIraxAZ-O",
        "outputId": "f59e294a-0a2e-498c-e29e-3a164e4553e2"
      },
      "execution_count": 317,
      "outputs": [
        {
          "output_type": "execute_result",
          "data": {
            "text/plain": [
              "      age     sex     bmi  children smoker     region      charges\n",
              "0      19  female  27.900         0    yes  southwest  16884.92400\n",
              "1      18    male  33.770         1     no  southeast   1725.55230\n",
              "2      28    male  33.000         3     no  southeast   4449.46200\n",
              "3      33    male  22.705         0     no  northwest  21984.47061\n",
              "4      32    male  28.880         0     no  northwest   3866.85520\n",
              "...   ...     ...     ...       ...    ...        ...          ...\n",
              "1333   50    male  30.970         3     no  northwest  10600.54830\n",
              "1334   18  female  31.920         0     no  northeast   2205.98080\n",
              "1335   18  female  36.850         0     no  southeast   1629.83350\n",
              "1336   21  female  25.800         0     no  southwest   2007.94500\n",
              "1337   61  female  29.070         0    yes  northwest  29141.36030\n",
              "\n",
              "[1338 rows x 7 columns]"
            ],
            "text/html": [
              "\n",
              "  <div id=\"df-8ab9e41a-b2e3-4796-8858-111145895a38\" class=\"colab-df-container\">\n",
              "    <div>\n",
              "<style scoped>\n",
              "    .dataframe tbody tr th:only-of-type {\n",
              "        vertical-align: middle;\n",
              "    }\n",
              "\n",
              "    .dataframe tbody tr th {\n",
              "        vertical-align: top;\n",
              "    }\n",
              "\n",
              "    .dataframe thead th {\n",
              "        text-align: right;\n",
              "    }\n",
              "</style>\n",
              "<table border=\"1\" class=\"dataframe\">\n",
              "  <thead>\n",
              "    <tr style=\"text-align: right;\">\n",
              "      <th></th>\n",
              "      <th>age</th>\n",
              "      <th>sex</th>\n",
              "      <th>bmi</th>\n",
              "      <th>children</th>\n",
              "      <th>smoker</th>\n",
              "      <th>region</th>\n",
              "      <th>charges</th>\n",
              "    </tr>\n",
              "  </thead>\n",
              "  <tbody>\n",
              "    <tr>\n",
              "      <th>0</th>\n",
              "      <td>19</td>\n",
              "      <td>female</td>\n",
              "      <td>27.900</td>\n",
              "      <td>0</td>\n",
              "      <td>yes</td>\n",
              "      <td>southwest</td>\n",
              "      <td>16884.92400</td>\n",
              "    </tr>\n",
              "    <tr>\n",
              "      <th>1</th>\n",
              "      <td>18</td>\n",
              "      <td>male</td>\n",
              "      <td>33.770</td>\n",
              "      <td>1</td>\n",
              "      <td>no</td>\n",
              "      <td>southeast</td>\n",
              "      <td>1725.55230</td>\n",
              "    </tr>\n",
              "    <tr>\n",
              "      <th>2</th>\n",
              "      <td>28</td>\n",
              "      <td>male</td>\n",
              "      <td>33.000</td>\n",
              "      <td>3</td>\n",
              "      <td>no</td>\n",
              "      <td>southeast</td>\n",
              "      <td>4449.46200</td>\n",
              "    </tr>\n",
              "    <tr>\n",
              "      <th>3</th>\n",
              "      <td>33</td>\n",
              "      <td>male</td>\n",
              "      <td>22.705</td>\n",
              "      <td>0</td>\n",
              "      <td>no</td>\n",
              "      <td>northwest</td>\n",
              "      <td>21984.47061</td>\n",
              "    </tr>\n",
              "    <tr>\n",
              "      <th>4</th>\n",
              "      <td>32</td>\n",
              "      <td>male</td>\n",
              "      <td>28.880</td>\n",
              "      <td>0</td>\n",
              "      <td>no</td>\n",
              "      <td>northwest</td>\n",
              "      <td>3866.85520</td>\n",
              "    </tr>\n",
              "    <tr>\n",
              "      <th>...</th>\n",
              "      <td>...</td>\n",
              "      <td>...</td>\n",
              "      <td>...</td>\n",
              "      <td>...</td>\n",
              "      <td>...</td>\n",
              "      <td>...</td>\n",
              "      <td>...</td>\n",
              "    </tr>\n",
              "    <tr>\n",
              "      <th>1333</th>\n",
              "      <td>50</td>\n",
              "      <td>male</td>\n",
              "      <td>30.970</td>\n",
              "      <td>3</td>\n",
              "      <td>no</td>\n",
              "      <td>northwest</td>\n",
              "      <td>10600.54830</td>\n",
              "    </tr>\n",
              "    <tr>\n",
              "      <th>1334</th>\n",
              "      <td>18</td>\n",
              "      <td>female</td>\n",
              "      <td>31.920</td>\n",
              "      <td>0</td>\n",
              "      <td>no</td>\n",
              "      <td>northeast</td>\n",
              "      <td>2205.98080</td>\n",
              "    </tr>\n",
              "    <tr>\n",
              "      <th>1335</th>\n",
              "      <td>18</td>\n",
              "      <td>female</td>\n",
              "      <td>36.850</td>\n",
              "      <td>0</td>\n",
              "      <td>no</td>\n",
              "      <td>southeast</td>\n",
              "      <td>1629.83350</td>\n",
              "    </tr>\n",
              "    <tr>\n",
              "      <th>1336</th>\n",
              "      <td>21</td>\n",
              "      <td>female</td>\n",
              "      <td>25.800</td>\n",
              "      <td>0</td>\n",
              "      <td>no</td>\n",
              "      <td>southwest</td>\n",
              "      <td>2007.94500</td>\n",
              "    </tr>\n",
              "    <tr>\n",
              "      <th>1337</th>\n",
              "      <td>61</td>\n",
              "      <td>female</td>\n",
              "      <td>29.070</td>\n",
              "      <td>0</td>\n",
              "      <td>yes</td>\n",
              "      <td>northwest</td>\n",
              "      <td>29141.36030</td>\n",
              "    </tr>\n",
              "  </tbody>\n",
              "</table>\n",
              "<p>1338 rows × 7 columns</p>\n",
              "</div>\n",
              "    <div class=\"colab-df-buttons\">\n",
              "\n",
              "  <div class=\"colab-df-container\">\n",
              "    <button class=\"colab-df-convert\" onclick=\"convertToInteractive('df-8ab9e41a-b2e3-4796-8858-111145895a38')\"\n",
              "            title=\"Convert this dataframe to an interactive table.\"\n",
              "            style=\"display:none;\">\n",
              "\n",
              "  <svg xmlns=\"http://www.w3.org/2000/svg\" height=\"24px\" viewBox=\"0 -960 960 960\">\n",
              "    <path d=\"M120-120v-720h720v720H120Zm60-500h600v-160H180v160Zm220 220h160v-160H400v160Zm0 220h160v-160H400v160ZM180-400h160v-160H180v160Zm440 0h160v-160H620v160ZM180-180h160v-160H180v160Zm440 0h160v-160H620v160Z\"/>\n",
              "  </svg>\n",
              "    </button>\n",
              "\n",
              "  <style>\n",
              "    .colab-df-container {\n",
              "      display:flex;\n",
              "      gap: 12px;\n",
              "    }\n",
              "\n",
              "    .colab-df-convert {\n",
              "      background-color: #E8F0FE;\n",
              "      border: none;\n",
              "      border-radius: 50%;\n",
              "      cursor: pointer;\n",
              "      display: none;\n",
              "      fill: #1967D2;\n",
              "      height: 32px;\n",
              "      padding: 0 0 0 0;\n",
              "      width: 32px;\n",
              "    }\n",
              "\n",
              "    .colab-df-convert:hover {\n",
              "      background-color: #E2EBFA;\n",
              "      box-shadow: 0px 1px 2px rgba(60, 64, 67, 0.3), 0px 1px 3px 1px rgba(60, 64, 67, 0.15);\n",
              "      fill: #174EA6;\n",
              "    }\n",
              "\n",
              "    .colab-df-buttons div {\n",
              "      margin-bottom: 4px;\n",
              "    }\n",
              "\n",
              "    [theme=dark] .colab-df-convert {\n",
              "      background-color: #3B4455;\n",
              "      fill: #D2E3FC;\n",
              "    }\n",
              "\n",
              "    [theme=dark] .colab-df-convert:hover {\n",
              "      background-color: #434B5C;\n",
              "      box-shadow: 0px 1px 3px 1px rgba(0, 0, 0, 0.15);\n",
              "      filter: drop-shadow(0px 1px 2px rgba(0, 0, 0, 0.3));\n",
              "      fill: #FFFFFF;\n",
              "    }\n",
              "  </style>\n",
              "\n",
              "    <script>\n",
              "      const buttonEl =\n",
              "        document.querySelector('#df-8ab9e41a-b2e3-4796-8858-111145895a38 button.colab-df-convert');\n",
              "      buttonEl.style.display =\n",
              "        google.colab.kernel.accessAllowed ? 'block' : 'none';\n",
              "\n",
              "      async function convertToInteractive(key) {\n",
              "        const element = document.querySelector('#df-8ab9e41a-b2e3-4796-8858-111145895a38');\n",
              "        const dataTable =\n",
              "          await google.colab.kernel.invokeFunction('convertToInteractive',\n",
              "                                                    [key], {});\n",
              "        if (!dataTable) return;\n",
              "\n",
              "        const docLinkHtml = 'Like what you see? Visit the ' +\n",
              "          '<a target=\"_blank\" href=https://colab.research.google.com/notebooks/data_table.ipynb>data table notebook</a>'\n",
              "          + ' to learn more about interactive tables.';\n",
              "        element.innerHTML = '';\n",
              "        dataTable['output_type'] = 'display_data';\n",
              "        await google.colab.output.renderOutput(dataTable, element);\n",
              "        const docLink = document.createElement('div');\n",
              "        docLink.innerHTML = docLinkHtml;\n",
              "        element.appendChild(docLink);\n",
              "      }\n",
              "    </script>\n",
              "  </div>\n",
              "\n",
              "\n",
              "<div id=\"df-a117c248-b892-4ad8-a660-7dd80c2a71f8\">\n",
              "  <button class=\"colab-df-quickchart\" onclick=\"quickchart('df-a117c248-b892-4ad8-a660-7dd80c2a71f8')\"\n",
              "            title=\"Suggest charts.\"\n",
              "            style=\"display:none;\">\n",
              "\n",
              "<svg xmlns=\"http://www.w3.org/2000/svg\" height=\"24px\"viewBox=\"0 0 24 24\"\n",
              "     width=\"24px\">\n",
              "    <g>\n",
              "        <path d=\"M19 3H5c-1.1 0-2 .9-2 2v14c0 1.1.9 2 2 2h14c1.1 0 2-.9 2-2V5c0-1.1-.9-2-2-2zM9 17H7v-7h2v7zm4 0h-2V7h2v10zm4 0h-2v-4h2v4z\"/>\n",
              "    </g>\n",
              "</svg>\n",
              "  </button>\n",
              "\n",
              "<style>\n",
              "  .colab-df-quickchart {\n",
              "    background-color: #E8F0FE;\n",
              "    border: none;\n",
              "    border-radius: 50%;\n",
              "    cursor: pointer;\n",
              "    display: none;\n",
              "    fill: #1967D2;\n",
              "    height: 32px;\n",
              "    padding: 0 0 0 0;\n",
              "    width: 32px;\n",
              "  }\n",
              "\n",
              "  .colab-df-quickchart:hover {\n",
              "    background-color: #E2EBFA;\n",
              "    box-shadow: 0px 1px 2px rgba(60, 64, 67, 0.3), 0px 1px 3px 1px rgba(60, 64, 67, 0.15);\n",
              "    fill: #174EA6;\n",
              "  }\n",
              "\n",
              "  [theme=dark] .colab-df-quickchart {\n",
              "    background-color: #3B4455;\n",
              "    fill: #D2E3FC;\n",
              "  }\n",
              "\n",
              "  [theme=dark] .colab-df-quickchart:hover {\n",
              "    background-color: #434B5C;\n",
              "    box-shadow: 0px 1px 3px 1px rgba(0, 0, 0, 0.15);\n",
              "    filter: drop-shadow(0px 1px 2px rgba(0, 0, 0, 0.3));\n",
              "    fill: #FFFFFF;\n",
              "  }\n",
              "</style>\n",
              "\n",
              "  <script>\n",
              "    async function quickchart(key) {\n",
              "      const charts = await google.colab.kernel.invokeFunction(\n",
              "          'suggestCharts', [key], {});\n",
              "    }\n",
              "    (() => {\n",
              "      let quickchartButtonEl =\n",
              "        document.querySelector('#df-a117c248-b892-4ad8-a660-7dd80c2a71f8 button');\n",
              "      quickchartButtonEl.style.display =\n",
              "        google.colab.kernel.accessAllowed ? 'block' : 'none';\n",
              "    })();\n",
              "  </script>\n",
              "</div>\n",
              "    </div>\n",
              "  </div>\n"
            ]
          },
          "metadata": {},
          "execution_count": 317
        }
      ]
    },
    {
      "cell_type": "code",
      "source": [
        "data.isna().sum()"
      ],
      "metadata": {
        "colab": {
          "base_uri": "https://localhost:8080/"
        },
        "id": "MWd0NLpW9IS6",
        "outputId": "93d19a5a-1d67-4b05-ee0e-a80f261e43f2"
      },
      "execution_count": 139,
      "outputs": [
        {
          "output_type": "execute_result",
          "data": {
            "text/plain": [
              "age         0\n",
              "sex         0\n",
              "bmi         0\n",
              "children    0\n",
              "smoker      0\n",
              "region      0\n",
              "charges     0\n",
              "dtype: int64"
            ]
          },
          "metadata": {},
          "execution_count": 139
        }
      ]
    },
    {
      "cell_type": "code",
      "source": [
        "data.info()"
      ],
      "metadata": {
        "id": "5D4TUU0BElLG",
        "colab": {
          "base_uri": "https://localhost:8080/"
        },
        "outputId": "d7385adc-c28e-4cf8-bcb3-dbdd263636a1"
      },
      "execution_count": 140,
      "outputs": [
        {
          "output_type": "stream",
          "name": "stdout",
          "text": [
            "<class 'pandas.core.frame.DataFrame'>\n",
            "RangeIndex: 1338 entries, 0 to 1337\n",
            "Data columns (total 7 columns):\n",
            " #   Column    Non-Null Count  Dtype  \n",
            "---  ------    --------------  -----  \n",
            " 0   age       1338 non-null   int64  \n",
            " 1   sex       1338 non-null   object \n",
            " 2   bmi       1338 non-null   float64\n",
            " 3   children  1338 non-null   int64  \n",
            " 4   smoker    1338 non-null   object \n",
            " 5   region    1338 non-null   object \n",
            " 6   charges   1338 non-null   float64\n",
            "dtypes: float64(2), int64(2), object(3)\n",
            "memory usage: 73.3+ KB\n"
          ]
        }
      ]
    },
    {
      "cell_type": "code",
      "source": [
        "data[\"smoker\"] = data[\"smoker\"].astype(\"category\")"
      ],
      "metadata": {
        "id": "B5d97JcHKbSp"
      },
      "execution_count": 318,
      "outputs": []
    },
    {
      "cell_type": "code",
      "source": [
        "data[\"region\"].value_counts()"
      ],
      "metadata": {
        "colab": {
          "base_uri": "https://localhost:8080/"
        },
        "id": "xfRYPEIZMZXA",
        "outputId": "2c89be79-a609-40e5-9ce0-021bc172c655"
      },
      "execution_count": 319,
      "outputs": [
        {
          "output_type": "execute_result",
          "data": {
            "text/plain": [
              "southeast    364\n",
              "southwest    325\n",
              "northwest    325\n",
              "northeast    324\n",
              "Name: region, dtype: int64"
            ]
          },
          "metadata": {},
          "execution_count": 319
        }
      ]
    },
    {
      "cell_type": "code",
      "source": [
        "data[\"region\"] = data[\"region\"].astype(\"category\")"
      ],
      "metadata": {
        "id": "8f0lVeL9Neio"
      },
      "execution_count": 320,
      "outputs": []
    },
    {
      "cell_type": "code",
      "source": [
        "data[\"sex\"].value_counts"
      ],
      "metadata": {
        "colab": {
          "base_uri": "https://localhost:8080/"
        },
        "id": "5MHpXMjuMwfA",
        "outputId": "6586e98c-1de8-40f2-b592-c1204c963099"
      },
      "execution_count": 321,
      "outputs": [
        {
          "output_type": "execute_result",
          "data": {
            "text/plain": [
              "<bound method IndexOpsMixin.value_counts of 0       female\n",
              "1         male\n",
              "2         male\n",
              "3         male\n",
              "4         male\n",
              "         ...  \n",
              "1333      male\n",
              "1334    female\n",
              "1335    female\n",
              "1336    female\n",
              "1337    female\n",
              "Name: sex, Length: 1338, dtype: object>"
            ]
          },
          "metadata": {},
          "execution_count": 321
        }
      ]
    },
    {
      "cell_type": "code",
      "source": [
        "data[\"sex\"]= data[\"sex\"].astype(\"category\")"
      ],
      "metadata": {
        "id": "I1vAvFbvNIQW"
      },
      "execution_count": 322,
      "outputs": []
    },
    {
      "cell_type": "code",
      "source": [
        "data.info()"
      ],
      "metadata": {
        "colab": {
          "base_uri": "https://localhost:8080/"
        },
        "id": "A7l1UWU2NQtv",
        "outputId": "bfe005c3-e85b-4aaf-b144-cd9b141388de"
      },
      "execution_count": 146,
      "outputs": [
        {
          "output_type": "stream",
          "name": "stdout",
          "text": [
            "<class 'pandas.core.frame.DataFrame'>\n",
            "RangeIndex: 1338 entries, 0 to 1337\n",
            "Data columns (total 7 columns):\n",
            " #   Column    Non-Null Count  Dtype   \n",
            "---  ------    --------------  -----   \n",
            " 0   age       1338 non-null   int64   \n",
            " 1   sex       1338 non-null   category\n",
            " 2   bmi       1338 non-null   float64 \n",
            " 3   children  1338 non-null   int64   \n",
            " 4   smoker    1338 non-null   category\n",
            " 5   region    1338 non-null   category\n",
            " 6   charges   1338 non-null   float64 \n",
            "dtypes: category(3), float64(2), int64(2)\n",
            "memory usage: 46.3 KB\n"
          ]
        }
      ]
    },
    {
      "cell_type": "code",
      "source": [
        "data.info()"
      ],
      "metadata": {
        "colab": {
          "base_uri": "https://localhost:8080/"
        },
        "id": "lrWd2o2FK-uG",
        "outputId": "36badc5b-fa56-4b38-e783-0f6edd6a74d7"
      },
      "execution_count": 147,
      "outputs": [
        {
          "output_type": "stream",
          "name": "stdout",
          "text": [
            "<class 'pandas.core.frame.DataFrame'>\n",
            "RangeIndex: 1338 entries, 0 to 1337\n",
            "Data columns (total 7 columns):\n",
            " #   Column    Non-Null Count  Dtype   \n",
            "---  ------    --------------  -----   \n",
            " 0   age       1338 non-null   int64   \n",
            " 1   sex       1338 non-null   category\n",
            " 2   bmi       1338 non-null   float64 \n",
            " 3   children  1338 non-null   int64   \n",
            " 4   smoker    1338 non-null   category\n",
            " 5   region    1338 non-null   category\n",
            " 6   charges   1338 non-null   float64 \n",
            "dtypes: category(3), float64(2), int64(2)\n",
            "memory usage: 46.3 KB\n"
          ]
        }
      ]
    },
    {
      "cell_type": "code",
      "source": [
        "data[\"bmi\"].value_counts()"
      ],
      "metadata": {
        "colab": {
          "base_uri": "https://localhost:8080/"
        },
        "id": "EGlcpXK8DlYd",
        "outputId": "5ea59eae-657c-465f-90f2-2f3d0fbeac7f"
      },
      "execution_count": 148,
      "outputs": [
        {
          "output_type": "execute_result",
          "data": {
            "text/plain": [
              "32.300    13\n",
              "28.310     9\n",
              "30.495     8\n",
              "30.875     8\n",
              "31.350     8\n",
              "          ..\n",
              "46.200     1\n",
              "23.800     1\n",
              "44.770     1\n",
              "32.120     1\n",
              "30.970     1\n",
              "Name: bmi, Length: 548, dtype: int64"
            ]
          },
          "metadata": {},
          "execution_count": 148
        }
      ]
    },
    {
      "cell_type": "code",
      "source": [
        "data.describe()"
      ],
      "metadata": {
        "colab": {
          "base_uri": "https://localhost:8080/",
          "height": 300
        },
        "id": "dvXNp1G_CbZi",
        "outputId": "d458d987-e6b7-4c57-a04c-48e98f05c777"
      },
      "execution_count": 149,
      "outputs": [
        {
          "output_type": "execute_result",
          "data": {
            "text/plain": [
              "               age          bmi     children       charges\n",
              "count  1338.000000  1338.000000  1338.000000   1338.000000\n",
              "mean     39.207025    30.663397     1.094918  13270.422265\n",
              "std      14.049960     6.098187     1.205493  12110.011237\n",
              "min      18.000000    15.960000     0.000000   1121.873900\n",
              "25%      27.000000    26.296250     0.000000   4740.287150\n",
              "50%      39.000000    30.400000     1.000000   9382.033000\n",
              "75%      51.000000    34.693750     2.000000  16639.912515\n",
              "max      64.000000    53.130000     5.000000  63770.428010"
            ],
            "text/html": [
              "\n",
              "  <div id=\"df-a2d55d04-fc86-4e7c-9c7e-9bbdac114f79\" class=\"colab-df-container\">\n",
              "    <div>\n",
              "<style scoped>\n",
              "    .dataframe tbody tr th:only-of-type {\n",
              "        vertical-align: middle;\n",
              "    }\n",
              "\n",
              "    .dataframe tbody tr th {\n",
              "        vertical-align: top;\n",
              "    }\n",
              "\n",
              "    .dataframe thead th {\n",
              "        text-align: right;\n",
              "    }\n",
              "</style>\n",
              "<table border=\"1\" class=\"dataframe\">\n",
              "  <thead>\n",
              "    <tr style=\"text-align: right;\">\n",
              "      <th></th>\n",
              "      <th>age</th>\n",
              "      <th>bmi</th>\n",
              "      <th>children</th>\n",
              "      <th>charges</th>\n",
              "    </tr>\n",
              "  </thead>\n",
              "  <tbody>\n",
              "    <tr>\n",
              "      <th>count</th>\n",
              "      <td>1338.000000</td>\n",
              "      <td>1338.000000</td>\n",
              "      <td>1338.000000</td>\n",
              "      <td>1338.000000</td>\n",
              "    </tr>\n",
              "    <tr>\n",
              "      <th>mean</th>\n",
              "      <td>39.207025</td>\n",
              "      <td>30.663397</td>\n",
              "      <td>1.094918</td>\n",
              "      <td>13270.422265</td>\n",
              "    </tr>\n",
              "    <tr>\n",
              "      <th>std</th>\n",
              "      <td>14.049960</td>\n",
              "      <td>6.098187</td>\n",
              "      <td>1.205493</td>\n",
              "      <td>12110.011237</td>\n",
              "    </tr>\n",
              "    <tr>\n",
              "      <th>min</th>\n",
              "      <td>18.000000</td>\n",
              "      <td>15.960000</td>\n",
              "      <td>0.000000</td>\n",
              "      <td>1121.873900</td>\n",
              "    </tr>\n",
              "    <tr>\n",
              "      <th>25%</th>\n",
              "      <td>27.000000</td>\n",
              "      <td>26.296250</td>\n",
              "      <td>0.000000</td>\n",
              "      <td>4740.287150</td>\n",
              "    </tr>\n",
              "    <tr>\n",
              "      <th>50%</th>\n",
              "      <td>39.000000</td>\n",
              "      <td>30.400000</td>\n",
              "      <td>1.000000</td>\n",
              "      <td>9382.033000</td>\n",
              "    </tr>\n",
              "    <tr>\n",
              "      <th>75%</th>\n",
              "      <td>51.000000</td>\n",
              "      <td>34.693750</td>\n",
              "      <td>2.000000</td>\n",
              "      <td>16639.912515</td>\n",
              "    </tr>\n",
              "    <tr>\n",
              "      <th>max</th>\n",
              "      <td>64.000000</td>\n",
              "      <td>53.130000</td>\n",
              "      <td>5.000000</td>\n",
              "      <td>63770.428010</td>\n",
              "    </tr>\n",
              "  </tbody>\n",
              "</table>\n",
              "</div>\n",
              "    <div class=\"colab-df-buttons\">\n",
              "\n",
              "  <div class=\"colab-df-container\">\n",
              "    <button class=\"colab-df-convert\" onclick=\"convertToInteractive('df-a2d55d04-fc86-4e7c-9c7e-9bbdac114f79')\"\n",
              "            title=\"Convert this dataframe to an interactive table.\"\n",
              "            style=\"display:none;\">\n",
              "\n",
              "  <svg xmlns=\"http://www.w3.org/2000/svg\" height=\"24px\" viewBox=\"0 -960 960 960\">\n",
              "    <path d=\"M120-120v-720h720v720H120Zm60-500h600v-160H180v160Zm220 220h160v-160H400v160Zm0 220h160v-160H400v160ZM180-400h160v-160H180v160Zm440 0h160v-160H620v160ZM180-180h160v-160H180v160Zm440 0h160v-160H620v160Z\"/>\n",
              "  </svg>\n",
              "    </button>\n",
              "\n",
              "  <style>\n",
              "    .colab-df-container {\n",
              "      display:flex;\n",
              "      gap: 12px;\n",
              "    }\n",
              "\n",
              "    .colab-df-convert {\n",
              "      background-color: #E8F0FE;\n",
              "      border: none;\n",
              "      border-radius: 50%;\n",
              "      cursor: pointer;\n",
              "      display: none;\n",
              "      fill: #1967D2;\n",
              "      height: 32px;\n",
              "      padding: 0 0 0 0;\n",
              "      width: 32px;\n",
              "    }\n",
              "\n",
              "    .colab-df-convert:hover {\n",
              "      background-color: #E2EBFA;\n",
              "      box-shadow: 0px 1px 2px rgba(60, 64, 67, 0.3), 0px 1px 3px 1px rgba(60, 64, 67, 0.15);\n",
              "      fill: #174EA6;\n",
              "    }\n",
              "\n",
              "    .colab-df-buttons div {\n",
              "      margin-bottom: 4px;\n",
              "    }\n",
              "\n",
              "    [theme=dark] .colab-df-convert {\n",
              "      background-color: #3B4455;\n",
              "      fill: #D2E3FC;\n",
              "    }\n",
              "\n",
              "    [theme=dark] .colab-df-convert:hover {\n",
              "      background-color: #434B5C;\n",
              "      box-shadow: 0px 1px 3px 1px rgba(0, 0, 0, 0.15);\n",
              "      filter: drop-shadow(0px 1px 2px rgba(0, 0, 0, 0.3));\n",
              "      fill: #FFFFFF;\n",
              "    }\n",
              "  </style>\n",
              "\n",
              "    <script>\n",
              "      const buttonEl =\n",
              "        document.querySelector('#df-a2d55d04-fc86-4e7c-9c7e-9bbdac114f79 button.colab-df-convert');\n",
              "      buttonEl.style.display =\n",
              "        google.colab.kernel.accessAllowed ? 'block' : 'none';\n",
              "\n",
              "      async function convertToInteractive(key) {\n",
              "        const element = document.querySelector('#df-a2d55d04-fc86-4e7c-9c7e-9bbdac114f79');\n",
              "        const dataTable =\n",
              "          await google.colab.kernel.invokeFunction('convertToInteractive',\n",
              "                                                    [key], {});\n",
              "        if (!dataTable) return;\n",
              "\n",
              "        const docLinkHtml = 'Like what you see? Visit the ' +\n",
              "          '<a target=\"_blank\" href=https://colab.research.google.com/notebooks/data_table.ipynb>data table notebook</a>'\n",
              "          + ' to learn more about interactive tables.';\n",
              "        element.innerHTML = '';\n",
              "        dataTable['output_type'] = 'display_data';\n",
              "        await google.colab.output.renderOutput(dataTable, element);\n",
              "        const docLink = document.createElement('div');\n",
              "        docLink.innerHTML = docLinkHtml;\n",
              "        element.appendChild(docLink);\n",
              "      }\n",
              "    </script>\n",
              "  </div>\n",
              "\n",
              "\n",
              "<div id=\"df-7ef9e74d-df3f-49f1-8d3a-17c6a2f0e003\">\n",
              "  <button class=\"colab-df-quickchart\" onclick=\"quickchart('df-7ef9e74d-df3f-49f1-8d3a-17c6a2f0e003')\"\n",
              "            title=\"Suggest charts.\"\n",
              "            style=\"display:none;\">\n",
              "\n",
              "<svg xmlns=\"http://www.w3.org/2000/svg\" height=\"24px\"viewBox=\"0 0 24 24\"\n",
              "     width=\"24px\">\n",
              "    <g>\n",
              "        <path d=\"M19 3H5c-1.1 0-2 .9-2 2v14c0 1.1.9 2 2 2h14c1.1 0 2-.9 2-2V5c0-1.1-.9-2-2-2zM9 17H7v-7h2v7zm4 0h-2V7h2v10zm4 0h-2v-4h2v4z\"/>\n",
              "    </g>\n",
              "</svg>\n",
              "  </button>\n",
              "\n",
              "<style>\n",
              "  .colab-df-quickchart {\n",
              "    background-color: #E8F0FE;\n",
              "    border: none;\n",
              "    border-radius: 50%;\n",
              "    cursor: pointer;\n",
              "    display: none;\n",
              "    fill: #1967D2;\n",
              "    height: 32px;\n",
              "    padding: 0 0 0 0;\n",
              "    width: 32px;\n",
              "  }\n",
              "\n",
              "  .colab-df-quickchart:hover {\n",
              "    background-color: #E2EBFA;\n",
              "    box-shadow: 0px 1px 2px rgba(60, 64, 67, 0.3), 0px 1px 3px 1px rgba(60, 64, 67, 0.15);\n",
              "    fill: #174EA6;\n",
              "  }\n",
              "\n",
              "  [theme=dark] .colab-df-quickchart {\n",
              "    background-color: #3B4455;\n",
              "    fill: #D2E3FC;\n",
              "  }\n",
              "\n",
              "  [theme=dark] .colab-df-quickchart:hover {\n",
              "    background-color: #434B5C;\n",
              "    box-shadow: 0px 1px 3px 1px rgba(0, 0, 0, 0.15);\n",
              "    filter: drop-shadow(0px 1px 2px rgba(0, 0, 0, 0.3));\n",
              "    fill: #FFFFFF;\n",
              "  }\n",
              "</style>\n",
              "\n",
              "  <script>\n",
              "    async function quickchart(key) {\n",
              "      const charts = await google.colab.kernel.invokeFunction(\n",
              "          'suggestCharts', [key], {});\n",
              "    }\n",
              "    (() => {\n",
              "      let quickchartButtonEl =\n",
              "        document.querySelector('#df-7ef9e74d-df3f-49f1-8d3a-17c6a2f0e003 button');\n",
              "      quickchartButtonEl.style.display =\n",
              "        google.colab.kernel.accessAllowed ? 'block' : 'none';\n",
              "    })();\n",
              "  </script>\n",
              "</div>\n",
              "    </div>\n",
              "  </div>\n"
            ]
          },
          "metadata": {},
          "execution_count": 149
        }
      ]
    },
    {
      "cell_type": "code",
      "source": [
        "#BMİ dağılımını inceliyoruz.\n",
        "#Sağa çarpık bir dağılım gözlemliyoruz dolayısıyle ibm değerlerinin çoğunlukla düşük olduğunu söyleyebiriz.\n",
        "data[\"bmi\"].hist(bins=60, figsize=(12,6), histtype=u'step')"
      ],
      "metadata": {
        "colab": {
          "base_uri": "https://localhost:8080/",
          "height": 540
        },
        "id": "3W1CkMmwDx10",
        "outputId": "0dd9e282-773d-4b2c-fb28-7010440fa880"
      },
      "execution_count": 150,
      "outputs": [
        {
          "output_type": "execute_result",
          "data": {
            "text/plain": [
              "<Axes: >"
            ]
          },
          "metadata": {},
          "execution_count": 150
        },
        {
          "output_type": "display_data",
          "data": {
            "text/plain": [
              "<Figure size 1200x600 with 1 Axes>"
            ],
            "image/png": "[encoded data removed]"
          },
          "metadata": {}
        }
      ]
    },
    {
      "cell_type": "code",
      "source": [
        "fig, ax = plt.subplots()\n"
      ],
      "metadata": {
        "id": "ANQmXNa9ByBS",
        "colab": {
          "base_uri": "https://localhost:8080/",
          "height": 435
        },
        "outputId": "8fc99406-f655-4386-bd75-6b038c0aec42"
      },
      "execution_count": 151,
      "outputs": [
        {
          "output_type": "display_data",
          "data": {
            "text/plain": [
              "<Figure size 640x480 with 1 Axes>"
            ],
            "image/png": "[encoded data removed]"
          },
          "metadata": {}
        }
      ]
    },
    {
      "cell_type": "code",
      "source": [
        "sns.barplot(x = \"smoker\", y =\"charges\", data = data)\n",
        "#Sigara kullananların sigorta maliyetleri kullanmayanlara göre daha yüksektir.\n",
        "#Sigara kullanan bireylerin daha sık hastalandığını söyleyebiliriz.\n",
        "#Ya da daha ciddi rahatsızlıklara sahip oldukları söylenebilir."
      ],
      "metadata": {
        "colab": {
          "base_uri": "https://localhost:8080/",
          "height": 472
        },
        "id": "24PmVVrEGbkJ",
        "outputId": "118495e6-d56d-46ec-a2b8-8b334bc4aba4"
      },
      "execution_count": 152,
      "outputs": [
        {
          "output_type": "execute_result",
          "data": {
            "text/plain": [
              "<Axes: xlabel='smoker', ylabel='charges'>"
            ]
          },
          "metadata": {},
          "execution_count": 152
        },
        {
          "output_type": "display_data",
          "data": {
            "text/plain": [
              "<Figure size 640x480 with 1 Axes>"
            ],
            "image/png": "[encoded data removed]"
          },
          "metadata": {}
        }
      ]
    },
    {
      "cell_type": "code",
      "source": [
        "sns.catplot(data=data, y=\"region\",\n",
        "            hue=\"smoker\", kind=\"count\")\n",
        "#Tüm bölgelerde sigara kullananların sayısı büyük farkla çoğunluktadır."
      ],
      "metadata": {
        "colab": {
          "base_uri": "https://localhost:8080/",
          "height": 524
        },
        "id": "Kzx1ggfrXw6I",
        "outputId": "28f243a3-206d-4244-b9f7-a8f2b0141deb"
      },
      "execution_count": 153,
      "outputs": [
        {
          "output_type": "execute_result",
          "data": {
            "text/plain": [
              "<seaborn.axisgrid.FacetGrid at 0x7b334243e1a0>"
            ]
          },
          "metadata": {},
          "execution_count": 153
        },
        {
          "output_type": "display_data",
          "data": {
            "text/plain": [
              "<Figure size 573.875x500 with 1 Axes>"
            ],
            "image/png": "[encoded data removed]"
          },
          "metadata": {}
        }
      ]
    },
    {
      "cell_type": "code",
      "source": [
        "sns.catplot(data=data, y=\"smoker\",\n",
        "            hue=\"region\", kind=\"count\")\n",
        "#Bölgeler ve sigara kullanan/kullanmayan verileri arasında herhangi bir ilişki olduğunu söyleyemeyiz."
      ],
      "metadata": {
        "colab": {
          "base_uri": "https://localhost:8080/",
          "height": 524
        },
        "id": "t7ipzb-zYGIQ",
        "outputId": "44a181ce-f6c3-42a1-8c58-a838e9600e6c"
      },
      "execution_count": 154,
      "outputs": [
        {
          "output_type": "execute_result",
          "data": {
            "text/plain": [
              "<seaborn.axisgrid.FacetGrid at 0x7b334250f070>"
            ]
          },
          "metadata": {},
          "execution_count": 154
        },
        {
          "output_type": "display_data",
          "data": {
            "text/plain": [
              "<Figure size 621.125x500 with 1 Axes>"
            ],
            "image/png": "[encoded data removed]"
          },
          "metadata": {}
        }
      ]
    },
    {
      "cell_type": "code",
      "source": [
        "sns.barplot(x = \"sex\", y =\"bmi\", data = data)\n",
        "#Cinsiyet ve bmi arasında herhangi bir istatistiksel ilişki gözlemlenememiştir."
      ],
      "metadata": {
        "colab": {
          "base_uri": "https://localhost:8080/",
          "height": 467
        },
        "outputId": "8ae9e043-96e9-4de7-d0d9-3b0282cda251",
        "id": "do0xwzIQZWWb"
      },
      "execution_count": 155,
      "outputs": [
        {
          "output_type": "execute_result",
          "data": {
            "text/plain": [
              "<Axes: xlabel='sex', ylabel='bmi'>"
            ]
          },
          "metadata": {},
          "execution_count": 155
        },
        {
          "output_type": "display_data",
          "data": {
            "text/plain": [
              "<Figure size 640x480 with 1 Axes>"
            ],
            "image/png": "[encoded data removed]"
          },
          "metadata": {}
        }
      ]
    },
    {
      "cell_type": "code",
      "source": [
        "sns.catplot(data=data, x=\"sex\", y=\"bmi\")\n",
        "# Veri setinde erkeklerde yüksek bmi gösteren aykırı veriler olduğunu görüyoruz."
      ],
      "metadata": {
        "colab": {
          "base_uri": "https://localhost:8080/",
          "height": 525
        },
        "id": "5BACJT-RZu3H",
        "outputId": "e0084b5e-f6b5-4109-9a85-148dfebfb70a"
      },
      "execution_count": 156,
      "outputs": [
        {
          "output_type": "execute_result",
          "data": {
            "text/plain": [
              "<seaborn.axisgrid.FacetGrid at 0x7b334241b100>"
            ]
          },
          "metadata": {},
          "execution_count": 156
        },
        {
          "output_type": "display_data",
          "data": {
            "text/plain": [
              "<Figure size 500x500 with 1 Axes>"
            ],
            "image/png": "[encoded data removed]"
          },
          "metadata": {}
        }
      ]
    },
    {
      "cell_type": "code",
      "source": [
        "sns.barplot(x = \"region\", y =\"children\", data = data)\n",
        "#Çocuk sayıları bölgelere eşit olarak dağıldığı gözlemlenmiştir.\n",
        "#Northwest ve Southwest bölgeleri en yüksek çocuk sayısına sahip bölgelerdir."
      ],
      "metadata": {
        "colab": {
          "base_uri": "https://localhost:8080/",
          "height": 467
        },
        "outputId": "a39f71f2-148a-416a-d5d8-1fcc26240043",
        "id": "LUfI_4kSbMJM"
      },
      "execution_count": 157,
      "outputs": [
        {
          "output_type": "execute_result",
          "data": {
            "text/plain": [
              "<Axes: xlabel='region', ylabel='children'>"
            ]
          },
          "metadata": {},
          "execution_count": 157
        },
        {
          "output_type": "display_data",
          "data": {
            "text/plain": [
              "<Figure size 640x480 with 1 Axes>"
            ],
            "image/png": "[encoded data removed]"
          },
          "metadata": {}
        }
      ]
    },
    {
      "cell_type": "code",
      "source": [
        "sns.catplot(data=data, x=\"region\", y=\"children\")"
      ],
      "metadata": {
        "colab": {
          "base_uri": "https://localhost:8080/",
          "height": 524
        },
        "id": "V2q-S8txMha3",
        "outputId": "ef135770-95a9-4f95-e4b8-6d3918314273"
      },
      "execution_count": 158,
      "outputs": [
        {
          "output_type": "execute_result",
          "data": {
            "text/plain": [
              "<seaborn.axisgrid.FacetGrid at 0x7b334243f310>"
            ]
          },
          "metadata": {},
          "execution_count": 158
        },
        {
          "output_type": "display_data",
          "data": {
            "text/plain": [
              "<Figure size 500x500 with 1 Axes>"
            ],
            "image/png": "[encoded data removed]"
          },
          "metadata": {}
        }
      ]
    },
    {
      "cell_type": "code",
      "source": [
        "#Bmi ve age değerlerinin ilişkisini gözlemlediğimizde aralarında bir ilişki olduğu söylenmez.\n",
        "#her yaş grubundan bireyler düşük veya yüksek değerlere sahip olabilir.\n",
        "#Aykırı değerler bulunmaktadır.\n",
        "sns.boxplot(x='age', y='bmi', data=data)\n",
        "plt.title('relationship between “age” and “bmi”')\n",
        "plt.show()\n"
      ],
      "metadata": {
        "colab": {
          "base_uri": "https://localhost:8080/",
          "height": 472
        },
        "id": "xGDSapymRY24",
        "outputId": "ef3428a4-f782-445c-d154-53ee564d631f"
      },
      "execution_count": 159,
      "outputs": [
        {
          "output_type": "display_data",
          "data": {
            "text/plain": [
              "<Figure size 640x480 with 1 Axes>"
            ],
            "image/png": "[encoded data removed]"
          },
          "metadata": {}
        }
      ]
    },
    {
      "cell_type": "code",
      "source": [
        "sns.scatterplot(x=data['bmi'], y=data['age'])"
      ],
      "metadata": {
        "colab": {
          "base_uri": "https://localhost:8080/",
          "height": 467
        },
        "id": "ud1fHxOCoVNr",
        "outputId": "201a7c74-0cc3-4e73-c988-a51e6c88cf21"
      },
      "execution_count": 160,
      "outputs": [
        {
          "output_type": "execute_result",
          "data": {
            "text/plain": [
              "<Axes: xlabel='bmi', ylabel='age'>"
            ]
          },
          "metadata": {},
          "execution_count": 160
        },
        {
          "output_type": "display_data",
          "data": {
            "text/plain": [
              "<Figure size 640x480 with 1 Axes>"
            ],
            "image/png": "[encoded data removed]"
          },
          "metadata": {}
        }
      ]
    },
    {
      "cell_type": "code",
      "source": [
        "#Çocuk sayısı ve bmi arasında bir istatistiksel ilişki var mı ?\n",
        "sns.relplot(data=data, x=\"children\", y=\"bmi\", kind=\"line\", hue=\"children\")"
      ],
      "metadata": {
        "colab": {
          "base_uri": "https://localhost:8080/",
          "height": 525
        },
        "id": "Gq1SfbLeriUM",
        "outputId": "cfaf99b6-fc7a-4560-ae6b-196fc6edcbd0"
      },
      "execution_count": 161,
      "outputs": [
        {
          "output_type": "execute_result",
          "data": {
            "text/plain": [
              "<seaborn.axisgrid.FacetGrid at 0x7b335045b610>"
            ]
          },
          "metadata": {},
          "execution_count": 161
        },
        {
          "output_type": "display_data",
          "data": {
            "text/plain": [
              "<Figure size 566.861x500 with 1 Axes>"
            ],
            "image/png": "[encoded data removed]"
          },
          "metadata": {}
        }
      ]
    },
    {
      "cell_type": "code",
      "source": [
        "#Herhangi bir ilişki olduğu söylenemez.\n",
        "sns.boxplot(x='children', y='bmi', data=data)\n",
        "plt.show()"
      ],
      "metadata": {
        "colab": {
          "base_uri": "https://localhost:8080/",
          "height": 449
        },
        "id": "w9BaKjkUwp77",
        "outputId": "a3861a12-6d54-4d9e-9b52-4d901df439f1"
      },
      "execution_count": 162,
      "outputs": [
        {
          "output_type": "display_data",
          "data": {
            "text/plain": [
              "<Figure size 640x480 with 1 Axes>"
            ],
            "image/png": "[encoded data removed]"
          },
          "metadata": {}
        }
      ]
    },
    {
      "cell_type": "code",
      "source": [
        "#BMİ'da aykırı değerler olduğunu gözlemledik.\n",
        "sns.boxplot(x='bmi', data=data)\n",
        "plt.show()"
      ],
      "metadata": {
        "colab": {
          "base_uri": "https://localhost:8080/",
          "height": 449
        },
        "id": "LHFEAzwLwyOv",
        "outputId": "b34f9667-dc6c-4392-f6d8-a93fa9d61818"
      },
      "execution_count": 163,
      "outputs": [
        {
          "output_type": "display_data",
          "data": {
            "text/plain": [
              "<Figure size 640x480 with 1 Axes>"
            ],
            "image/png": "[encoded data removed]"
          },
          "metadata": {}
        }
      ]
    },
    {
      "cell_type": "code",
      "source": [
        "#BMİ ve Charges arasındaki istatiksel ilişkiyi gözlemliyoruz.\n",
        "#1\n",
        "plt.scatter(data['bmi'], data['charges'])\n",
        "plt.xlabel('BMI')\n",
        "plt.ylabel('Charges')\n",
        "plt.show()"
      ],
      "metadata": {
        "colab": {
          "base_uri": "https://localhost:8080/",
          "height": 449
        },
        "id": "7pCWDW1Fxwdv",
        "outputId": "be9784cc-7dcb-48e6-d498-f3655978d980"
      },
      "execution_count": 164,
      "outputs": [
        {
          "output_type": "display_data",
          "data": {
            "text/plain": [
              "<Figure size 640x480 with 1 Axes>"
            ],
            "image/png": "[encoded data removed]"
          },
          "metadata": {}
        }
      ]
    },
    {
      "cell_type": "code",
      "source": [
        "#2\n",
        "#BMİ Obezite sınırındayken masraflar artıyor.\n",
        "sns.relplot(data=data, x=data['bmi'], y=data['charges'], kind='line')"
      ],
      "metadata": {
        "colab": {
          "base_uri": "https://localhost:8080/",
          "height": 524
        },
        "id": "Hj0jvzgdzBIa",
        "outputId": "dc950b3f-5f98-4598-fe08-4c077592e81f"
      },
      "execution_count": 165,
      "outputs": [
        {
          "output_type": "execute_result",
          "data": {
            "text/plain": [
              "<seaborn.axisgrid.FacetGrid at 0x7b3341e54880>"
            ]
          },
          "metadata": {},
          "execution_count": 165
        },
        {
          "output_type": "display_data",
          "data": {
            "text/plain": [
              "<Figure size 500x500 with 1 Axes>"
            ],
            "image/png": "[encoded data removed]"
          },
          "metadata": {}
        }
      ]
    },
    {
      "cell_type": "code",
      "source": [
        "#Bar plot'u kullanarak \"region\", \"smoker\" ve \"bmi\" arasındaki ilişkiyi inceliyoruz.\n",
        "colors = [\"red\", \"green\"]\n",
        "sns.set_palette(sns.color_palette(colors))\n",
        "plt.figure(figsize=(10,10))\n",
        "ax = sns.barplot(x=\"region\", y=\"bmi\",\n",
        "                 hue=\"smoker\", data=data,)\n",
        "#Region, bmi ve smoker arasında herhangi bir ilişki olduğu söylenemez."
      ],
      "metadata": {
        "colab": {
          "base_uri": "https://localhost:8080/",
          "height": 850
        },
        "id": "666VvNFR0r7p",
        "outputId": "055503a3-2d9f-4b0c-b628-7a7cb1dcc55d"
      },
      "execution_count": 166,
      "outputs": [
        {
          "output_type": "display_data",
          "data": {
            "text/plain": [
              "<Figure size 1000x1000 with 1 Axes>"
            ],
            "image/png": "[encoded data removed]"
          },
          "metadata": {}
        }
      ]
    },
    {
      "cell_type": "code",
      "source": [
        "#VERİ ÖNİŞLEME(DATA PREPROCESSING)\n",
        "data"
      ],
      "metadata": {
        "id": "teLrbyTKnx8V",
        "colab": {
          "base_uri": "https://localhost:8080/",
          "height": 423
        },
        "outputId": "6299f210-a9da-481a-9024-6c651b11e3a0"
      },
      "execution_count": 323,
      "outputs": [
        {
          "output_type": "execute_result",
          "data": {
            "text/plain": [
              "      age     sex     bmi  children smoker     region      charges\n",
              "0      19  female  27.900         0    yes  southwest  16884.92400\n",
              "1      18    male  33.770         1     no  southeast   1725.55230\n",
              "2      28    male  33.000         3     no  southeast   4449.46200\n",
              "3      33    male  22.705         0     no  northwest  21984.47061\n",
              "4      32    male  28.880         0     no  northwest   3866.85520\n",
              "...   ...     ...     ...       ...    ...        ...          ...\n",
              "1333   50    male  30.970         3     no  northwest  10600.54830\n",
              "1334   18  female  31.920         0     no  northeast   2205.98080\n",
              "1335   18  female  36.850         0     no  southeast   1629.83350\n",
              "1336   21  female  25.800         0     no  southwest   2007.94500\n",
              "1337   61  female  29.070         0    yes  northwest  29141.36030\n",
              "\n",
              "[1338 rows x 7 columns]"
            ],
            "text/html": [
              "\n",
              "  <div id=\"df-3936ee82-34c8-4439-9e66-02372a320436\" class=\"colab-df-container\">\n",
              "    <div>\n",
              "<style scoped>\n",
              "    .dataframe tbody tr th:only-of-type {\n",
              "        vertical-align: middle;\n",
              "    }\n",
              "\n",
              "    .dataframe tbody tr th {\n",
              "        vertical-align: top;\n",
              "    }\n",
              "\n",
              "    .dataframe thead th {\n",
              "        text-align: right;\n",
              "    }\n",
              "</style>\n",
              "<table border=\"1\" class=\"dataframe\">\n",
              "  <thead>\n",
              "    <tr style=\"text-align: right;\">\n",
              "      <th></th>\n",
              "      <th>age</th>\n",
              "      <th>sex</th>\n",
              "      <th>bmi</th>\n",
              "      <th>children</th>\n",
              "      <th>smoker</th>\n",
              "      <th>region</th>\n",
              "      <th>charges</th>\n",
              "    </tr>\n",
              "  </thead>\n",
              "  <tbody>\n",
              "    <tr>\n",
              "      <th>0</th>\n",
              "      <td>19</td>\n",
              "      <td>female</td>\n",
              "      <td>27.900</td>\n",
              "      <td>0</td>\n",
              "      <td>yes</td>\n",
              "      <td>southwest</td>\n",
              "      <td>16884.92400</td>\n",
              "    </tr>\n",
              "    <tr>\n",
              "      <th>1</th>\n",
              "      <td>18</td>\n",
              "      <td>male</td>\n",
              "      <td>33.770</td>\n",
              "      <td>1</td>\n",
              "      <td>no</td>\n",
              "      <td>southeast</td>\n",
              "      <td>1725.55230</td>\n",
              "    </tr>\n",
              "    <tr>\n",
              "      <th>2</th>\n",
              "      <td>28</td>\n",
              "      <td>male</td>\n",
              "      <td>33.000</td>\n",
              "      <td>3</td>\n",
              "      <td>no</td>\n",
              "      <td>southeast</td>\n",
              "      <td>4449.46200</td>\n",
              "    </tr>\n",
              "    <tr>\n",
              "      <th>3</th>\n",
              "      <td>33</td>\n",
              "      <td>male</td>\n",
              "      <td>22.705</td>\n",
              "      <td>0</td>\n",
              "      <td>no</td>\n",
              "      <td>northwest</td>\n",
              "      <td>21984.47061</td>\n",
              "    </tr>\n",
              "    <tr>\n",
              "      <th>4</th>\n",
              "      <td>32</td>\n",
              "      <td>male</td>\n",
              "      <td>28.880</td>\n",
              "      <td>0</td>\n",
              "      <td>no</td>\n",
              "      <td>northwest</td>\n",
              "      <td>3866.85520</td>\n",
              "    </tr>\n",
              "    <tr>\n",
              "      <th>...</th>\n",
              "      <td>...</td>\n",
              "      <td>...</td>\n",
              "      <td>...</td>\n",
              "      <td>...</td>\n",
              "      <td>...</td>\n",
              "      <td>...</td>\n",
              "      <td>...</td>\n",
              "    </tr>\n",
              "    <tr>\n",
              "      <th>1333</th>\n",
              "      <td>50</td>\n",
              "      <td>male</td>\n",
              "      <td>30.970</td>\n",
              "      <td>3</td>\n",
              "      <td>no</td>\n",
              "      <td>northwest</td>\n",
              "      <td>10600.54830</td>\n",
              "    </tr>\n",
              "    <tr>\n",
              "      <th>1334</th>\n",
              "      <td>18</td>\n",
              "      <td>female</td>\n",
              "      <td>31.920</td>\n",
              "      <td>0</td>\n",
              "      <td>no</td>\n",
              "      <td>northeast</td>\n",
              "      <td>2205.98080</td>\n",
              "    </tr>\n",
              "    <tr>\n",
              "      <th>1335</th>\n",
              "      <td>18</td>\n",
              "      <td>female</td>\n",
              "      <td>36.850</td>\n",
              "      <td>0</td>\n",
              "      <td>no</td>\n",
              "      <td>southeast</td>\n",
              "      <td>1629.83350</td>\n",
              "    </tr>\n",
              "    <tr>\n",
              "      <th>1336</th>\n",
              "      <td>21</td>\n",
              "      <td>female</td>\n",
              "      <td>25.800</td>\n",
              "      <td>0</td>\n",
              "      <td>no</td>\n",
              "      <td>southwest</td>\n",
              "      <td>2007.94500</td>\n",
              "    </tr>\n",
              "    <tr>\n",
              "      <th>1337</th>\n",
              "      <td>61</td>\n",
              "      <td>female</td>\n",
              "      <td>29.070</td>\n",
              "      <td>0</td>\n",
              "      <td>yes</td>\n",
              "      <td>northwest</td>\n",
              "      <td>29141.36030</td>\n",
              "    </tr>\n",
              "  </tbody>\n",
              "</table>\n",
              "<p>1338 rows × 7 columns</p>\n",
              "</div>\n",
              "    <div class=\"colab-df-buttons\">\n",
              "\n",
              "  <div class=\"colab-df-container\">\n",
              "    <button class=\"colab-df-convert\" onclick=\"convertToInteractive('df-3936ee82-34c8-4439-9e66-02372a320436')\"\n",
              "            title=\"Convert this dataframe to an interactive table.\"\n",
              "            style=\"display:none;\">\n",
              "\n",
              "  <svg xmlns=\"http://www.w3.org/2000/svg\" height=\"24px\" viewBox=\"0 -960 960 960\">\n",
              "    <path d=\"M120-120v-720h720v720H120Zm60-500h600v-160H180v160Zm220 220h160v-160H400v160Zm0 220h160v-160H400v160ZM180-400h160v-160H180v160Zm440 0h160v-160H620v160ZM180-180h160v-160H180v160Zm440 0h160v-160H620v160Z\"/>\n",
              "  </svg>\n",
              "    </button>\n",
              "\n",
              "  <style>\n",
              "    .colab-df-container {\n",
              "      display:flex;\n",
              "      gap: 12px;\n",
              "    }\n",
              "\n",
              "    .colab-df-convert {\n",
              "      background-color: #E8F0FE;\n",
              "      border: none;\n",
              "      border-radius: 50%;\n",
              "      cursor: pointer;\n",
              "      display: none;\n",
              "      fill: #1967D2;\n",
              "      height: 32px;\n",
              "      padding: 0 0 0 0;\n",
              "      width: 32px;\n",
              "    }\n",
              "\n",
              "    .colab-df-convert:hover {\n",
              "      background-color: #E2EBFA;\n",
              "      box-shadow: 0px 1px 2px rgba(60, 64, 67, 0.3), 0px 1px 3px 1px rgba(60, 64, 67, 0.15);\n",
              "      fill: #174EA6;\n",
              "    }\n",
              "\n",
              "    .colab-df-buttons div {\n",
              "      margin-bottom: 4px;\n",
              "    }\n",
              "\n",
              "    [theme=dark] .colab-df-convert {\n",
              "      background-color: #3B4455;\n",
              "      fill: #D2E3FC;\n",
              "    }\n",
              "\n",
              "    [theme=dark] .colab-df-convert:hover {\n",
              "      background-color: #434B5C;\n",
              "      box-shadow: 0px 1px 3px 1px rgba(0, 0, 0, 0.15);\n",
              "      filter: drop-shadow(0px 1px 2px rgba(0, 0, 0, 0.3));\n",
              "      fill: #FFFFFF;\n",
              "    }\n",
              "  </style>\n",
              "\n",
              "    <script>\n",
              "      const buttonEl =\n",
              "        document.querySelector('#df-3936ee82-34c8-4439-9e66-02372a320436 button.colab-df-convert');\n",
              "      buttonEl.style.display =\n",
              "        google.colab.kernel.accessAllowed ? 'block' : 'none';\n",
              "\n",
              "      async function convertToInteractive(key) {\n",
              "        const element = document.querySelector('#df-3936ee82-34c8-4439-9e66-02372a320436');\n",
              "        const dataTable =\n",
              "          await google.colab.kernel.invokeFunction('convertToInteractive',\n",
              "                                                    [key], {});\n",
              "        if (!dataTable) return;\n",
              "\n",
              "        const docLinkHtml = 'Like what you see? Visit the ' +\n",
              "          '<a target=\"_blank\" href=https://colab.research.google.com/notebooks/data_table.ipynb>data table notebook</a>'\n",
              "          + ' to learn more about interactive tables.';\n",
              "        element.innerHTML = '';\n",
              "        dataTable['output_type'] = 'display_data';\n",
              "        await google.colab.output.renderOutput(dataTable, element);\n",
              "        const docLink = document.createElement('div');\n",
              "        docLink.innerHTML = docLinkHtml;\n",
              "        element.appendChild(docLink);\n",
              "      }\n",
              "    </script>\n",
              "  </div>\n",
              "\n",
              "\n",
              "<div id=\"df-4cf8c3f7-281a-4c4f-beb0-df5a5d16a958\">\n",
              "  <button class=\"colab-df-quickchart\" onclick=\"quickchart('df-4cf8c3f7-281a-4c4f-beb0-df5a5d16a958')\"\n",
              "            title=\"Suggest charts.\"\n",
              "            style=\"display:none;\">\n",
              "\n",
              "<svg xmlns=\"http://www.w3.org/2000/svg\" height=\"24px\"viewBox=\"0 0 24 24\"\n",
              "     width=\"24px\">\n",
              "    <g>\n",
              "        <path d=\"M19 3H5c-1.1 0-2 .9-2 2v14c0 1.1.9 2 2 2h14c1.1 0 2-.9 2-2V5c0-1.1-.9-2-2-2zM9 17H7v-7h2v7zm4 0h-2V7h2v10zm4 0h-2v-4h2v4z\"/>\n",
              "    </g>\n",
              "</svg>\n",
              "  </button>\n",
              "\n",
              "<style>\n",
              "  .colab-df-quickchart {\n",
              "    background-color: #E8F0FE;\n",
              "    border: none;\n",
              "    border-radius: 50%;\n",
              "    cursor: pointer;\n",
              "    display: none;\n",
              "    fill: #1967D2;\n",
              "    height: 32px;\n",
              "    padding: 0 0 0 0;\n",
              "    width: 32px;\n",
              "  }\n",
              "\n",
              "  .colab-df-quickchart:hover {\n",
              "    background-color: #E2EBFA;\n",
              "    box-shadow: 0px 1px 2px rgba(60, 64, 67, 0.3), 0px 1px 3px 1px rgba(60, 64, 67, 0.15);\n",
              "    fill: #174EA6;\n",
              "  }\n",
              "\n",
              "  [theme=dark] .colab-df-quickchart {\n",
              "    background-color: #3B4455;\n",
              "    fill: #D2E3FC;\n",
              "  }\n",
              "\n",
              "  [theme=dark] .colab-df-quickchart:hover {\n",
              "    background-color: #434B5C;\n",
              "    box-shadow: 0px 1px 3px 1px rgba(0, 0, 0, 0.15);\n",
              "    filter: drop-shadow(0px 1px 2px rgba(0, 0, 0, 0.3));\n",
              "    fill: #FFFFFF;\n",
              "  }\n",
              "</style>\n",
              "\n",
              "  <script>\n",
              "    async function quickchart(key) {\n",
              "      const charts = await google.colab.kernel.invokeFunction(\n",
              "          'suggestCharts', [key], {});\n",
              "    }\n",
              "    (() => {\n",
              "      let quickchartButtonEl =\n",
              "        document.querySelector('#df-4cf8c3f7-281a-4c4f-beb0-df5a5d16a958 button');\n",
              "      quickchartButtonEl.style.display =\n",
              "        google.colab.kernel.accessAllowed ? 'block' : 'none';\n",
              "    })();\n",
              "  </script>\n",
              "</div>\n",
              "    </div>\n",
              "  </div>\n"
            ]
          },
          "metadata": {},
          "execution_count": 323
        }
      ]
    },
    {
      "cell_type": "code",
      "source": [
        "#Eksik değer olup olmadığını kontrol ediyoruz.\n",
        "data.isnull().sum().sum()"
      ],
      "metadata": {
        "colab": {
          "base_uri": "https://localhost:8080/"
        },
        "id": "onok7ixF5KTJ",
        "outputId": "3c5aefea-d810-47d2-a32b-eb8db01698f7"
      },
      "execution_count": 324,
      "outputs": [
        {
          "output_type": "execute_result",
          "data": {
            "text/plain": [
              "0"
            ]
          },
          "metadata": {},
          "execution_count": 324
        }
      ]
    },
    {
      "cell_type": "code",
      "source": [
        "#Kategorik verileri sayısal değerlere dönüştürüyoruz.\n",
        "#Label Encoding-sex ve female kategorisi için\n",
        "from sklearn import preprocessing\n",
        "label_encoder = preprocessing.LabelEncoder()\n",
        "data['sex'] = label_encoder.fit_transform(data['sex'])\n",
        "data['smoker'] = label_encoder.fit_transform(data['smoker'])\n",
        "data"
      ],
      "metadata": {
        "colab": {
          "base_uri": "https://localhost:8080/",
          "height": 423
        },
        "id": "xIA-TAa46L03",
        "outputId": "120bec50-ec11-4edd-bdda-76abc660ffc5"
      },
      "execution_count": 325,
      "outputs": [
        {
          "output_type": "execute_result",
          "data": {
            "text/plain": [
              "      age  sex     bmi  children  smoker     region      charges\n",
              "0      19    0  27.900         0       1  southwest  16884.92400\n",
              "1      18    1  33.770         1       0  southeast   1725.55230\n",
              "2      28    1  33.000         3       0  southeast   4449.46200\n",
              "3      33    1  22.705         0       0  northwest  21984.47061\n",
              "4      32    1  28.880         0       0  northwest   3866.85520\n",
              "...   ...  ...     ...       ...     ...        ...          ...\n",
              "1333   50    1  30.970         3       0  northwest  10600.54830\n",
              "1334   18    0  31.920         0       0  northeast   2205.98080\n",
              "1335   18    0  36.850         0       0  southeast   1629.83350\n",
              "1336   21    0  25.800         0       0  southwest   2007.94500\n",
              "1337   61    0  29.070         0       1  northwest  29141.36030\n",
              "\n",
              "[1338 rows x 7 columns]"
            ],
            "text/html": [
              "\n",
              "  <div id=\"df-de3204a2-23a6-42a9-a193-99938dcb6f31\" class=\"colab-df-container\">\n",
              "    <div>\n",
              "<style scoped>\n",
              "    .dataframe tbody tr th:only-of-type {\n",
              "        vertical-align: middle;\n",
              "    }\n",
              "\n",
              "    .dataframe tbody tr th {\n",
              "        vertical-align: top;\n",
              "    }\n",
              "\n",
              "    .dataframe thead th {\n",
              "        text-align: right;\n",
              "    }\n",
              "</style>\n",
              "<table border=\"1\" class=\"dataframe\">\n",
              "  <thead>\n",
              "    <tr style=\"text-align: right;\">\n",
              "      <th></th>\n",
              "      <th>age</th>\n",
              "      <th>sex</th>\n",
              "      <th>bmi</th>\n",
              "      <th>children</th>\n",
              "      <th>smoker</th>\n",
              "      <th>region</th>\n",
              "      <th>charges</th>\n",
              "    </tr>\n",
              "  </thead>\n",
              "  <tbody>\n",
              "    <tr>\n",
              "      <th>0</th>\n",
              "      <td>19</td>\n",
              "      <td>0</td>\n",
              "      <td>27.900</td>\n",
              "      <td>0</td>\n",
              "      <td>1</td>\n",
              "      <td>southwest</td>\n",
              "      <td>16884.92400</td>\n",
              "    </tr>\n",
              "    <tr>\n",
              "      <th>1</th>\n",
              "      <td>18</td>\n",
              "      <td>1</td>\n",
              "      <td>33.770</td>\n",
              "      <td>1</td>\n",
              "      <td>0</td>\n",
              "      <td>southeast</td>\n",
              "      <td>1725.55230</td>\n",
              "    </tr>\n",
              "    <tr>\n",
              "      <th>2</th>\n",
              "      <td>28</td>\n",
              "      <td>1</td>\n",
              "      <td>33.000</td>\n",
              "      <td>3</td>\n",
              "      <td>0</td>\n",
              "      <td>southeast</td>\n",
              "      <td>4449.46200</td>\n",
              "    </tr>\n",
              "    <tr>\n",
              "      <th>3</th>\n",
              "      <td>33</td>\n",
              "      <td>1</td>\n",
              "      <td>22.705</td>\n",
              "      <td>0</td>\n",
              "      <td>0</td>\n",
              "      <td>northwest</td>\n",
              "      <td>21984.47061</td>\n",
              "    </tr>\n",
              "    <tr>\n",
              "      <th>4</th>\n",
              "      <td>32</td>\n",
              "      <td>1</td>\n",
              "      <td>28.880</td>\n",
              "      <td>0</td>\n",
              "      <td>0</td>\n",
              "      <td>northwest</td>\n",
              "      <td>3866.85520</td>\n",
              "    </tr>\n",
              "    <tr>\n",
              "      <th>...</th>\n",
              "      <td>...</td>\n",
              "      <td>...</td>\n",
              "      <td>...</td>\n",
              "      <td>...</td>\n",
              "      <td>...</td>\n",
              "      <td>...</td>\n",
              "      <td>...</td>\n",
              "    </tr>\n",
              "    <tr>\n",
              "      <th>1333</th>\n",
              "      <td>50</td>\n",
              "      <td>1</td>\n",
              "      <td>30.970</td>\n",
              "      <td>3</td>\n",
              "      <td>0</td>\n",
              "      <td>northwest</td>\n",
              "      <td>10600.54830</td>\n",
              "    </tr>\n",
              "    <tr>\n",
              "      <th>1334</th>\n",
              "      <td>18</td>\n",
              "      <td>0</td>\n",
              "      <td>31.920</td>\n",
              "      <td>0</td>\n",
              "      <td>0</td>\n",
              "      <td>northeast</td>\n",
              "      <td>2205.98080</td>\n",
              "    </tr>\n",
              "    <tr>\n",
              "      <th>1335</th>\n",
              "      <td>18</td>\n",
              "      <td>0</td>\n",
              "      <td>36.850</td>\n",
              "      <td>0</td>\n",
              "      <td>0</td>\n",
              "      <td>southeast</td>\n",
              "      <td>1629.83350</td>\n",
              "    </tr>\n",
              "    <tr>\n",
              "      <th>1336</th>\n",
              "      <td>21</td>\n",
              "      <td>0</td>\n",
              "      <td>25.800</td>\n",
              "      <td>0</td>\n",
              "      <td>0</td>\n",
              "      <td>southwest</td>\n",
              "      <td>2007.94500</td>\n",
              "    </tr>\n",
              "    <tr>\n",
              "      <th>1337</th>\n",
              "      <td>61</td>\n",
              "      <td>0</td>\n",
              "      <td>29.070</td>\n",
              "      <td>0</td>\n",
              "      <td>1</td>\n",
              "      <td>northwest</td>\n",
              "      <td>29141.36030</td>\n",
              "    </tr>\n",
              "  </tbody>\n",
              "</table>\n",
              "<p>1338 rows × 7 columns</p>\n",
              "</div>\n",
              "    <div class=\"colab-df-buttons\">\n",
              "\n",
              "  <div class=\"colab-df-container\">\n",
              "    <button class=\"colab-df-convert\" onclick=\"convertToInteractive('df-de3204a2-23a6-42a9-a193-99938dcb6f31')\"\n",
              "            title=\"Convert this dataframe to an interactive table.\"\n",
              "            style=\"display:none;\">\n",
              "\n",
              "  <svg xmlns=\"http://www.w3.org/2000/svg\" height=\"24px\" viewBox=\"0 -960 960 960\">\n",
              "    <path d=\"M120-120v-720h720v720H120Zm60-500h600v-160H180v160Zm220 220h160v-160H400v160Zm0 220h160v-160H400v160ZM180-400h160v-160H180v160Zm440 0h160v-160H620v160ZM180-180h160v-160H180v160Zm440 0h160v-160H620v160Z\"/>\n",
              "  </svg>\n",
              "    </button>\n",
              "\n",
              "  <style>\n",
              "    .colab-df-container {\n",
              "      display:flex;\n",
              "      gap: 12px;\n",
              "    }\n",
              "\n",
              "    .colab-df-convert {\n",
              "      background-color: #E8F0FE;\n",
              "      border: none;\n",
              "      border-radius: 50%;\n",
              "      cursor: pointer;\n",
              "      display: none;\n",
              "      fill: #1967D2;\n",
              "      height: 32px;\n",
              "      padding: 0 0 0 0;\n",
              "      width: 32px;\n",
              "    }\n",
              "\n",
              "    .colab-df-convert:hover {\n",
              "      background-color: #E2EBFA;\n",
              "      box-shadow: 0px 1px 2px rgba(60, 64, 67, 0.3), 0px 1px 3px 1px rgba(60, 64, 67, 0.15);\n",
              "      fill: #174EA6;\n",
              "    }\n",
              "\n",
              "    .colab-df-buttons div {\n",
              "      margin-bottom: 4px;\n",
              "    }\n",
              "\n",
              "    [theme=dark] .colab-df-convert {\n",
              "      background-color: #3B4455;\n",
              "      fill: #D2E3FC;\n",
              "    }\n",
              "\n",
              "    [theme=dark] .colab-df-convert:hover {\n",
              "      background-color: #434B5C;\n",
              "      box-shadow: 0px 1px 3px 1px rgba(0, 0, 0, 0.15);\n",
              "      filter: drop-shadow(0px 1px 2px rgba(0, 0, 0, 0.3));\n",
              "      fill: #FFFFFF;\n",
              "    }\n",
              "  </style>\n",
              "\n",
              "    <script>\n",
              "      const buttonEl =\n",
              "        document.querySelector('#df-de3204a2-23a6-42a9-a193-99938dcb6f31 button.colab-df-convert');\n",
              "      buttonEl.style.display =\n",
              "        google.colab.kernel.accessAllowed ? 'block' : 'none';\n",
              "\n",
              "      async function convertToInteractive(key) {\n",
              "        const element = document.querySelector('#df-de3204a2-23a6-42a9-a193-99938dcb6f31');\n",
              "        const dataTable =\n",
              "          await google.colab.kernel.invokeFunction('convertToInteractive',\n",
              "                                                    [key], {});\n",
              "        if (!dataTable) return;\n",
              "\n",
              "        const docLinkHtml = 'Like what you see? Visit the ' +\n",
              "          '<a target=\"_blank\" href=https://colab.research.google.com/notebooks/data_table.ipynb>data table notebook</a>'\n",
              "          + ' to learn more about interactive tables.';\n",
              "        element.innerHTML = '';\n",
              "        dataTable['output_type'] = 'display_data';\n",
              "        await google.colab.output.renderOutput(dataTable, element);\n",
              "        const docLink = document.createElement('div');\n",
              "        docLink.innerHTML = docLinkHtml;\n",
              "        element.appendChild(docLink);\n",
              "      }\n",
              "    </script>\n",
              "  </div>\n",
              "\n",
              "\n",
              "<div id=\"df-5da06ddf-7358-463a-9d9b-e543ff19b097\">\n",
              "  <button class=\"colab-df-quickchart\" onclick=\"quickchart('df-5da06ddf-7358-463a-9d9b-e543ff19b097')\"\n",
              "            title=\"Suggest charts.\"\n",
              "            style=\"display:none;\">\n",
              "\n",
              "<svg xmlns=\"http://www.w3.org/2000/svg\" height=\"24px\"viewBox=\"0 0 24 24\"\n",
              "     width=\"24px\">\n",
              "    <g>\n",
              "        <path d=\"M19 3H5c-1.1 0-2 .9-2 2v14c0 1.1.9 2 2 2h14c1.1 0 2-.9 2-2V5c0-1.1-.9-2-2-2zM9 17H7v-7h2v7zm4 0h-2V7h2v10zm4 0h-2v-4h2v4z\"/>\n",
              "    </g>\n",
              "</svg>\n",
              "  </button>\n",
              "\n",
              "<style>\n",
              "  .colab-df-quickchart {\n",
              "    background-color: #E8F0FE;\n",
              "    border: none;\n",
              "    border-radius: 50%;\n",
              "    cursor: pointer;\n",
              "    display: none;\n",
              "    fill: #1967D2;\n",
              "    height: 32px;\n",
              "    padding: 0 0 0 0;\n",
              "    width: 32px;\n",
              "  }\n",
              "\n",
              "  .colab-df-quickchart:hover {\n",
              "    background-color: #E2EBFA;\n",
              "    box-shadow: 0px 1px 2px rgba(60, 64, 67, 0.3), 0px 1px 3px 1px rgba(60, 64, 67, 0.15);\n",
              "    fill: #174EA6;\n",
              "  }\n",
              "\n",
              "  [theme=dark] .colab-df-quickchart {\n",
              "    background-color: #3B4455;\n",
              "    fill: #D2E3FC;\n",
              "  }\n",
              "\n",
              "  [theme=dark] .colab-df-quickchart:hover {\n",
              "    background-color: #434B5C;\n",
              "    box-shadow: 0px 1px 3px 1px rgba(0, 0, 0, 0.15);\n",
              "    filter: drop-shadow(0px 1px 2px rgba(0, 0, 0, 0.3));\n",
              "    fill: #FFFFFF;\n",
              "  }\n",
              "</style>\n",
              "\n",
              "  <script>\n",
              "    async function quickchart(key) {\n",
              "      const charts = await google.colab.kernel.invokeFunction(\n",
              "          'suggestCharts', [key], {});\n",
              "    }\n",
              "    (() => {\n",
              "      let quickchartButtonEl =\n",
              "        document.querySelector('#df-5da06ddf-7358-463a-9d9b-e543ff19b097 button');\n",
              "      quickchartButtonEl.style.display =\n",
              "        google.colab.kernel.accessAllowed ? 'block' : 'none';\n",
              "    })();\n",
              "  </script>\n",
              "</div>\n",
              "    </div>\n",
              "  </div>\n"
            ]
          },
          "metadata": {},
          "execution_count": 325
        }
      ]
    },
    {
      "cell_type": "code",
      "source": [
        "#One-Hot Encoding- Region kategorisi için\n",
        "onehotencod = preprocessing.OneHotEncoder()\n",
        "data['region'] = pd.Categorical(data['region'])\n",
        "df = pd.get_dummies(data['region'],prefix = 'region')\n",
        "#df\n",
        "#veri setlerini birleştiriyoruz.\n",
        "df_new = pd.concat([data, df], axis=1)\n",
        "#df_new\n",
        "df_new.drop(['region'], axis=1, inplace=True)"
      ],
      "metadata": {
        "id": "B-OXfYWx8MOh"
      },
      "execution_count": 326,
      "outputs": []
    },
    {
      "cell_type": "code",
      "source": [
        "df_new #kalıcı olarak silindiğini teyit ediyoruz."
      ],
      "metadata": {
        "colab": {
          "base_uri": "https://localhost:8080/",
          "height": 423
        },
        "id": "7gT00ftIDFT0",
        "outputId": "28aad9b4-979b-4711-a604-8a97483d1f78"
      },
      "execution_count": 327,
      "outputs": [
        {
          "output_type": "execute_result",
          "data": {
            "text/plain": [
              "      age  sex     bmi  children  smoker      charges  region_northeast  \\\n",
              "0      19    0  27.900         0       1  16884.92400                 0   \n",
              "1      18    1  33.770         1       0   1725.55230                 0   \n",
              "2      28    1  33.000         3       0   4449.46200                 0   \n",
              "3      33    1  22.705         0       0  21984.47061                 0   \n",
              "4      32    1  28.880         0       0   3866.85520                 0   \n",
              "...   ...  ...     ...       ...     ...          ...               ...   \n",
              "1333   50    1  30.970         3       0  10600.54830                 0   \n",
              "1334   18    0  31.920         0       0   2205.98080                 1   \n",
              "1335   18    0  36.850         0       0   1629.83350                 0   \n",
              "1336   21    0  25.800         0       0   2007.94500                 0   \n",
              "1337   61    0  29.070         0       1  29141.36030                 0   \n",
              "\n",
              "      region_northwest  region_southeast  region_southwest  \n",
              "0                    0                 0                 1  \n",
              "1                    0                 1                 0  \n",
              "2                    0                 1                 0  \n",
              "3                    1                 0                 0  \n",
              "4                    1                 0                 0  \n",
              "...                ...               ...               ...  \n",
              "1333                 1                 0                 0  \n",
              "1334                 0                 0                 0  \n",
              "1335                 0                 1                 0  \n",
              "1336                 0                 0                 1  \n",
              "1337                 1                 0                 0  \n",
              "\n",
              "[1338 rows x 10 columns]"
            ],
            "text/html": [
              "\n",
              "  <div id=\"df-ec929b65-ec87-4ed3-a27a-f89cd71a22dd\" class=\"colab-df-container\">\n",
              "    <div>\n",
              "<style scoped>\n",
              "    .dataframe tbody tr th:only-of-type {\n",
              "        vertical-align: middle;\n",
              "    }\n",
              "\n",
              "    .dataframe tbody tr th {\n",
              "        vertical-align: top;\n",
              "    }\n",
              "\n",
              "    .dataframe thead th {\n",
              "        text-align: right;\n",
              "    }\n",
              "</style>\n",
              "<table border=\"1\" class=\"dataframe\">\n",
              "  <thead>\n",
              "    <tr style=\"text-align: right;\">\n",
              "      <th></th>\n",
              "      <th>age</th>\n",
              "      <th>sex</th>\n",
              "      <th>bmi</th>\n",
              "      <th>children</th>\n",
              "      <th>smoker</th>\n",
              "      <th>charges</th>\n",
              "      <th>region_northeast</th>\n",
              "      <th>region_northwest</th>\n",
              "      <th>region_southeast</th>\n",
              "      <th>region_southwest</th>\n",
              "    </tr>\n",
              "  </thead>\n",
              "  <tbody>\n",
              "    <tr>\n",
              "      <th>0</th>\n",
              "      <td>19</td>\n",
              "      <td>0</td>\n",
              "      <td>27.900</td>\n",
              "      <td>0</td>\n",
              "      <td>1</td>\n",
              "      <td>16884.92400</td>\n",
              "      <td>0</td>\n",
              "      <td>0</td>\n",
              "      <td>0</td>\n",
              "      <td>1</td>\n",
              "    </tr>\n",
              "    <tr>\n",
              "      <th>1</th>\n",
              "      <td>18</td>\n",
              "      <td>1</td>\n",
              "      <td>33.770</td>\n",
              "      <td>1</td>\n",
              "      <td>0</td>\n",
              "      <td>1725.55230</td>\n",
              "      <td>0</td>\n",
              "      <td>0</td>\n",
              "      <td>1</td>\n",
              "      <td>0</td>\n",
              "    </tr>\n",
              "    <tr>\n",
              "      <th>2</th>\n",
              "      <td>28</td>\n",
              "      <td>1</td>\n",
              "      <td>33.000</td>\n",
              "      <td>3</td>\n",
              "      <td>0</td>\n",
              "      <td>4449.46200</td>\n",
              "      <td>0</td>\n",
              "      <td>0</td>\n",
              "      <td>1</td>\n",
              "      <td>0</td>\n",
              "    </tr>\n",
              "    <tr>\n",
              "      <th>3</th>\n",
              "      <td>33</td>\n",
              "      <td>1</td>\n",
              "      <td>22.705</td>\n",
              "      <td>0</td>\n",
              "      <td>0</td>\n",
              "      <td>21984.47061</td>\n",
              "      <td>0</td>\n",
              "      <td>1</td>\n",
              "      <td>0</td>\n",
              "      <td>0</td>\n",
              "    </tr>\n",
              "    <tr>\n",
              "      <th>4</th>\n",
              "      <td>32</td>\n",
              "      <td>1</td>\n",
              "      <td>28.880</td>\n",
              "      <td>0</td>\n",
              "      <td>0</td>\n",
              "      <td>3866.85520</td>\n",
              "      <td>0</td>\n",
              "      <td>1</td>\n",
              "      <td>0</td>\n",
              "      <td>0</td>\n",
              "    </tr>\n",
              "    <tr>\n",
              "      <th>...</th>\n",
              "      <td>...</td>\n",
              "      <td>...</td>\n",
              "      <td>...</td>\n",
              "      <td>...</td>\n",
              "      <td>...</td>\n",
              "      <td>...</td>\n",
              "      <td>...</td>\n",
              "      <td>...</td>\n",
              "      <td>...</td>\n",
              "      <td>...</td>\n",
              "    </tr>\n",
              "    <tr>\n",
              "      <th>1333</th>\n",
              "      <td>50</td>\n",
              "      <td>1</td>\n",
              "      <td>30.970</td>\n",
              "      <td>3</td>\n",
              "      <td>0</td>\n",
              "      <td>10600.54830</td>\n",
              "      <td>0</td>\n",
              "      <td>1</td>\n",
              "      <td>0</td>\n",
              "      <td>0</td>\n",
              "    </tr>\n",
              "    <tr>\n",
              "      <th>1334</th>\n",
              "      <td>18</td>\n",
              "      <td>0</td>\n",
              "      <td>31.920</td>\n",
              "      <td>0</td>\n",
              "      <td>0</td>\n",
              "      <td>2205.98080</td>\n",
              "      <td>1</td>\n",
              "      <td>0</td>\n",
              "      <td>0</td>\n",
              "      <td>0</td>\n",
              "    </tr>\n",
              "    <tr>\n",
              "      <th>1335</th>\n",
              "      <td>18</td>\n",
              "      <td>0</td>\n",
              "      <td>36.850</td>\n",
              "      <td>0</td>\n",
              "      <td>0</td>\n",
              "      <td>1629.83350</td>\n",
              "      <td>0</td>\n",
              "      <td>0</td>\n",
              "      <td>1</td>\n",
              "      <td>0</td>\n",
              "    </tr>\n",
              "    <tr>\n",
              "      <th>1336</th>\n",
              "      <td>21</td>\n",
              "      <td>0</td>\n",
              "      <td>25.800</td>\n",
              "      <td>0</td>\n",
              "      <td>0</td>\n",
              "      <td>2007.94500</td>\n",
              "      <td>0</td>\n",
              "      <td>0</td>\n",
              "      <td>0</td>\n",
              "      <td>1</td>\n",
              "    </tr>\n",
              "    <tr>\n",
              "      <th>1337</th>\n",
              "      <td>61</td>\n",
              "      <td>0</td>\n",
              "      <td>29.070</td>\n",
              "      <td>0</td>\n",
              "      <td>1</td>\n",
              "      <td>29141.36030</td>\n",
              "      <td>0</td>\n",
              "      <td>1</td>\n",
              "      <td>0</td>\n",
              "      <td>0</td>\n",
              "    </tr>\n",
              "  </tbody>\n",
              "</table>\n",
              "<p>1338 rows × 10 columns</p>\n",
              "</div>\n",
              "    <div class=\"colab-df-buttons\">\n",
              "\n",
              "  <div class=\"colab-df-container\">\n",
              "    <button class=\"colab-df-convert\" onclick=\"convertToInteractive('df-ec929b65-ec87-4ed3-a27a-f89cd71a22dd')\"\n",
              "            title=\"Convert this dataframe to an interactive table.\"\n",
              "            style=\"display:none;\">\n",
              "\n",
              "  <svg xmlns=\"http://www.w3.org/2000/svg\" height=\"24px\" viewBox=\"0 -960 960 960\">\n",
              "    <path d=\"M120-120v-720h720v720H120Zm60-500h600v-160H180v160Zm220 220h160v-160H400v160Zm0 220h160v-160H400v160ZM180-400h160v-160H180v160Zm440 0h160v-160H620v160ZM180-180h160v-160H180v160Zm440 0h160v-160H620v160Z\"/>\n",
              "  </svg>\n",
              "    </button>\n",
              "\n",
              "  <style>\n",
              "    .colab-df-container {\n",
              "      display:flex;\n",
              "      gap: 12px;\n",
              "    }\n",
              "\n",
              "    .colab-df-convert {\n",
              "      background-color: #E8F0FE;\n",
              "      border: none;\n",
              "      border-radius: 50%;\n",
              "      cursor: pointer;\n",
              "      display: none;\n",
              "      fill: #1967D2;\n",
              "      height: 32px;\n",
              "      padding: 0 0 0 0;\n",
              "      width: 32px;\n",
              "    }\n",
              "\n",
              "    .colab-df-convert:hover {\n",
              "      background-color: #E2EBFA;\n",
              "      box-shadow: 0px 1px 2px rgba(60, 64, 67, 0.3), 0px 1px 3px 1px rgba(60, 64, 67, 0.15);\n",
              "      fill: #174EA6;\n",
              "    }\n",
              "\n",
              "    .colab-df-buttons div {\n",
              "      margin-bottom: 4px;\n",
              "    }\n",
              "\n",
              "    [theme=dark] .colab-df-convert {\n",
              "      background-color: #3B4455;\n",
              "      fill: #D2E3FC;\n",
              "    }\n",
              "\n",
              "    [theme=dark] .colab-df-convert:hover {\n",
              "      background-color: #434B5C;\n",
              "      box-shadow: 0px 1px 3px 1px rgba(0, 0, 0, 0.15);\n",
              "      filter: drop-shadow(0px 1px 2px rgba(0, 0, 0, 0.3));\n",
              "      fill: #FFFFFF;\n",
              "    }\n",
              "  </style>\n",
              "\n",
              "    <script>\n",
              "      const buttonEl =\n",
              "        document.querySelector('#df-ec929b65-ec87-4ed3-a27a-f89cd71a22dd button.colab-df-convert');\n",
              "      buttonEl.style.display =\n",
              "        google.colab.kernel.accessAllowed ? 'block' : 'none';\n",
              "\n",
              "      async function convertToInteractive(key) {\n",
              "        const element = document.querySelector('#df-ec929b65-ec87-4ed3-a27a-f89cd71a22dd');\n",
              "        const dataTable =\n",
              "          await google.colab.kernel.invokeFunction('convertToInteractive',\n",
              "                                                    [key], {});\n",
              "        if (!dataTable) return;\n",
              "\n",
              "        const docLinkHtml = 'Like what you see? Visit the ' +\n",
              "          '<a target=\"_blank\" href=https://colab.research.google.com/notebooks/data_table.ipynb>data table notebook</a>'\n",
              "          + ' to learn more about interactive tables.';\n",
              "        element.innerHTML = '';\n",
              "        dataTable['output_type'] = 'display_data';\n",
              "        await google.colab.output.renderOutput(dataTable, element);\n",
              "        const docLink = document.createElement('div');\n",
              "        docLink.innerHTML = docLinkHtml;\n",
              "        element.appendChild(docLink);\n",
              "      }\n",
              "    </script>\n",
              "  </div>\n",
              "\n",
              "\n",
              "<div id=\"df-9e2e480e-15a0-4227-929f-ac5de3fcf59a\">\n",
              "  <button class=\"colab-df-quickchart\" onclick=\"quickchart('df-9e2e480e-15a0-4227-929f-ac5de3fcf59a')\"\n",
              "            title=\"Suggest charts.\"\n",
              "            style=\"display:none;\">\n",
              "\n",
              "<svg xmlns=\"http://www.w3.org/2000/svg\" height=\"24px\"viewBox=\"0 0 24 24\"\n",
              "     width=\"24px\">\n",
              "    <g>\n",
              "        <path d=\"M19 3H5c-1.1 0-2 .9-2 2v14c0 1.1.9 2 2 2h14c1.1 0 2-.9 2-2V5c0-1.1-.9-2-2-2zM9 17H7v-7h2v7zm4 0h-2V7h2v10zm4 0h-2v-4h2v4z\"/>\n",
              "    </g>\n",
              "</svg>\n",
              "  </button>\n",
              "\n",
              "<style>\n",
              "  .colab-df-quickchart {\n",
              "    background-color: #E8F0FE;\n",
              "    border: none;\n",
              "    border-radius: 50%;\n",
              "    cursor: pointer;\n",
              "    display: none;\n",
              "    fill: #1967D2;\n",
              "    height: 32px;\n",
              "    padding: 0 0 0 0;\n",
              "    width: 32px;\n",
              "  }\n",
              "\n",
              "  .colab-df-quickchart:hover {\n",
              "    background-color: #E2EBFA;\n",
              "    box-shadow: 0px 1px 2px rgba(60, 64, 67, 0.3), 0px 1px 3px 1px rgba(60, 64, 67, 0.15);\n",
              "    fill: #174EA6;\n",
              "  }\n",
              "\n",
              "  [theme=dark] .colab-df-quickchart {\n",
              "    background-color: #3B4455;\n",
              "    fill: #D2E3FC;\n",
              "  }\n",
              "\n",
              "  [theme=dark] .colab-df-quickchart:hover {\n",
              "    background-color: #434B5C;\n",
              "    box-shadow: 0px 1px 3px 1px rgba(0, 0, 0, 0.15);\n",
              "    filter: drop-shadow(0px 1px 2px rgba(0, 0, 0, 0.3));\n",
              "    fill: #FFFFFF;\n",
              "  }\n",
              "</style>\n",
              "\n",
              "  <script>\n",
              "    async function quickchart(key) {\n",
              "      const charts = await google.colab.kernel.invokeFunction(\n",
              "          'suggestCharts', [key], {});\n",
              "    }\n",
              "    (() => {\n",
              "      let quickchartButtonEl =\n",
              "        document.querySelector('#df-9e2e480e-15a0-4227-929f-ac5de3fcf59a button');\n",
              "      quickchartButtonEl.style.display =\n",
              "        google.colab.kernel.accessAllowed ? 'block' : 'none';\n",
              "    })();\n",
              "  </script>\n",
              "</div>\n",
              "    </div>\n",
              "  </div>\n"
            ]
          },
          "metadata": {},
          "execution_count": 327
        }
      ]
    },
    {
      "cell_type": "code",
      "source": [
        "#Veri Setini Ayırma\n",
        "from sklearn.model_selection import train_test_split\n",
        "df_char = df_new['charges']  # tahminleme yapacağımız sutünü ayırıyoruz\n",
        "data_df = df_new.copy()\n",
        "df_2 = data_df.drop(['charges'], axis=1)\n",
        "#df_2\n",
        "#df_char\n",
        "x_train, x_test, y_train, y_test = train_test_split(df_char, df_2, test_size = 0.30, random_state = 0)"
      ],
      "metadata": {
        "id": "egMNe9Z1wecO"
      },
      "execution_count": 328,
      "outputs": []
    },
    {
      "cell_type": "code",
      "source": [
        "#Veri Normalizasyonu\n",
        "#Aykırı değerleri gözlemliyoruz.\n",
        "sns.boxplot(x=df_new['charges'])"
      ],
      "metadata": {
        "colab": {
          "base_uri": "https://localhost:8080/",
          "height": 467
        },
        "id": "T0GxoCxDENQt",
        "outputId": "37b12b9e-de9c-4828-f2dd-e4bb8874f0bd"
      },
      "execution_count": 329,
      "outputs": [
        {
          "output_type": "execute_result",
          "data": {
            "text/plain": [
              "<Axes: xlabel='charges'>"
            ]
          },
          "metadata": {},
          "execution_count": 329
        },
        {
          "output_type": "display_data",
          "data": {
            "text/plain": [
              "<Figure size 640x480 with 1 Axes>"
            ],
            "image/png": "[encoded data removed]"
          },
          "metadata": {}
        }
      ]
    },
    {
      "cell_type": "code",
      "source": [
        "df_new[\"charges\"].hist(bins=60, figsize=(12,6))"
      ],
      "metadata": {
        "colab": {
          "base_uri": "https://localhost:8080/",
          "height": 540
        },
        "id": "Qcz0KSHkXa7h",
        "outputId": "c28a0b51-0829-4d76-9873-dd08207fa765"
      },
      "execution_count": 174,
      "outputs": [
        {
          "output_type": "execute_result",
          "data": {
            "text/plain": [
              "<Axes: >"
            ]
          },
          "metadata": {},
          "execution_count": 174
        },
        {
          "output_type": "display_data",
          "data": {
            "text/plain": [
              "<Figure size 1200x600 with 1 Axes>"
            ],
            "image/png": "[encoded data removed]"
          },
          "metadata": {}
        }
      ]
    },
    {
      "cell_type": "code",
      "source": [
        "x_train=x_train.array.reshape(-1,1)"
      ],
      "metadata": {
        "id": "H4keyCTxzfX1"
      },
      "execution_count": 331,
      "outputs": []
    },
    {
      "cell_type": "code",
      "source": [
        "#Log Transformation\n",
        "#x_train, x_test, y_train, y_test\n",
        "#Verilerimiz sağa çarpık olduğu için en uygun normalizasyon yöntemi Log Transformation\n",
        "#x_train_2 = np.log(x_train)\n",
        "#y_train_2 = np.log(y_train)\n",
        "#x_test_2 = np.log(x_test)\n",
        "#y_test_2 = np.log(y_test)\n",
        "#x_test_2\n",
        "\n",
        "from sklearn.preprocessing import StandardScaler\n",
        "object= StandardScaler()\n",
        "train_x = object.fit_transform(x_train)\n"
      ],
      "metadata": {
        "colab": {
          "base_uri": "https://localhost:8080/"
        },
        "id": "AftQZI54qBgl",
        "outputId": "d5bbe59c-d58e-444b-a9a5-5e7e2b9dedb5"
      },
      "execution_count": 333,
      "outputs": [
        {
          "output_type": "stream",
          "name": "stdout",
          "text": [
            "[[-9.29114569e-01]\n",
            " [-6.38651947e-01]\n",
            " [-5.39325234e-02]\n",
            " [-4.89603748e-01]\n",
            " [-6.71349717e-01]\n",
            " [-9.67549383e-01]\n",
            " [ 1.99311860e+00]\n",
            " [-7.49986519e-03]\n",
            " [-5.43346082e-01]\n",
            " [-2.11871148e-02]\n",
            " [-3.93810261e-01]\n",
            " [-6.34346126e-02]\n",
            " [ 2.99749417e+00]\n",
            " [-8.24494558e-01]\n",
            " [-4.46162315e-01]\n",
            " [ 2.82436277e-01]\n",
            " [ 1.14345861e-01]\n",
            " [-9.85403479e-01]\n",
            " [-5.30554176e-01]\n",
            " [-9.27713303e-01]\n",
            " [-1.15928290e-01]\n",
            " [ 5.03782109e-01]\n",
            " [-1.43008068e-01]\n",
            " [ 2.33634863e+00]\n",
            " [-7.02715735e-01]\n",
            " [ 1.74120307e+00]\n",
            " [ 2.98421635e-01]\n",
            " [-1.89528398e-01]\n",
            " [-4.38466738e-01]\n",
            " [ 2.63340976e+00]\n",
            " [-4.17078733e-01]\n",
            " [-7.99784555e-01]\n",
            " [-3.51547052e-01]\n",
            " [ 4.66138790e-01]\n",
            " [ 1.93407799e+00]\n",
            " [ 4.94776882e-01]\n",
            " [ 1.04631189e+00]\n",
            " [ 2.18064123e+00]\n",
            " [-7.85495714e-01]\n",
            " [ 3.24442330e-01]\n",
            " [-8.59972348e-01]\n",
            " [ 1.95091150e+00]\n",
            " [-7.39736419e-01]\n",
            " [-1.54628012e-01]\n",
            " [-9.77847424e-01]\n",
            " [ 2.41593015e+00]\n",
            " [-3.61199865e-01]\n",
            " [-7.44605137e-01]\n",
            " [-7.77133116e-01]\n",
            " [-3.62309921e-01]\n",
            " [-3.18826164e-01]\n",
            " [-4.63295326e-01]\n",
            " [-1.39533403e-01]\n",
            " [-7.97983938e-01]\n",
            " [-9.33028227e-01]\n",
            " [-8.57060133e-01]\n",
            " [-7.81289427e-01]\n",
            " [-4.80573034e-01]\n",
            " [ 1.78603367e+00]\n",
            " [-2.56132266e-02]\n",
            " [-5.12074006e-01]\n",
            " [ 1.09515949e+00]\n",
            " [-1.25401058e-01]\n",
            " [-9.65438287e-01]\n",
            " [-2.02771682e-01]\n",
            " [-2.05205910e-01]\n",
            " [-7.52638041e-01]\n",
            " [-9.77018054e-01]\n",
            " [ 2.60824970e+00]\n",
            " [-4.72419633e-01]\n",
            " [ 1.27232396e+00]\n",
            " [-8.11768444e-01]\n",
            " [ 9.50008466e-01]\n",
            " [-6.52249406e-01]\n",
            " [-1.17104791e-01]\n",
            " [ 3.80299823e-01]\n",
            " [ 1.74062238e+00]\n",
            " [-3.08741699e-01]\n",
            " [-4.39275703e-01]\n",
            " [-9.70365525e-01]\n",
            " [-7.57386204e-01]\n",
            " [-4.15233239e-01]\n",
            " [-9.35022970e-01]\n",
            " [-2.84474706e-01]\n",
            " [-9.67654741e-01]\n",
            " [-8.28764375e-01]\n",
            " [ 2.26305468e+00]\n",
            " [-5.88059727e-01]\n",
            " [-5.02554605e-01]\n",
            " [-7.78445380e-01]\n",
            " [ 6.70630022e-01]\n",
            " [-2.37989487e-01]\n",
            " [-3.66949273e-02]\n",
            " [-6.98869591e-01]\n",
            " [-5.98744310e-01]\n",
            " [-7.00524092e-01]\n",
            " [-9.85248954e-01]\n",
            " [-3.81468006e-01]\n",
            " [ 7.11178707e-01]\n",
            " [-6.83558909e-01]\n",
            " [ 2.77654778e+00]\n",
            " [-2.75834631e-01]\n",
            " [-5.43800293e-01]\n",
            " [-8.57929790e-01]\n",
            " [-5.78748559e-01]\n",
            " [ 2.23095501e+00]\n",
            " [-9.53914846e-01]\n",
            " [-1.25913554e-01]\n",
            " [-3.70367149e-01]\n",
            " [-3.96916353e-01]\n",
            " [-9.27702181e-01]\n",
            " [-1.09035407e-01]\n",
            " [-1.56297651e-02]\n",
            " [ 1.88252542e+00]\n",
            " [-9.33085934e-02]\n",
            " [-4.87568576e-01]\n",
            " [ 1.35457935e-02]\n",
            " [ 8.60461663e-02]\n",
            " [ 1.94335048e+00]\n",
            " [-4.38764129e-01]\n",
            " [-1.58306087e-01]\n",
            " [ 6.08912403e-01]\n",
            " [-8.07480119e-01]\n",
            " [ 1.88336878e+00]\n",
            " [-7.20877173e-01]\n",
            " [ 5.15207584e-01]\n",
            " [ 4.69373466e-01]\n",
            " [-7.43924729e-01]\n",
            " [-2.25069753e-01]\n",
            " [-2.23451117e-01]\n",
            " [-6.59883490e-01]\n",
            " [-9.48805728e-01]\n",
            " [-1.01788460e+00]\n",
            " [-9.76384148e-01]\n",
            " [-8.42681118e-01]\n",
            " [-9.68626379e-01]\n",
            " [ 1.66205560e-02]\n",
            " [-8.43817999e-01]\n",
            " [-4.95611608e-01]\n",
            " [-3.52448452e-01]\n",
            " [-1.25454546e-01]\n",
            " [-5.61059915e-01]\n",
            " [-5.68742363e-02]\n",
            " [-9.29481567e-01]\n",
            " [-3.41827694e-01]\n",
            " [-6.81726609e-01]\n",
            " [-4.89459173e-01]\n",
            " [-7.32176911e-02]\n",
            " [-1.17245181e-01]\n",
            " [ 6.32745745e-01]\n",
            " [-1.42358809e-02]\n",
            " [-4.35426641e-01]\n",
            " [-5.03310844e-01]\n",
            " [ 1.10827077e+00]\n",
            " [-6.60917602e-01]\n",
            " [-1.85219705e-01]\n",
            " [-5.18431047e-01]\n",
            " [-6.70937367e-01]\n",
            " [ 7.28320414e-01]\n",
            " [-2.12171373e-01]\n",
            " [-3.03052929e-01]\n",
            " [-2.68595629e-02]\n",
            " [-2.49580240e-01]\n",
            " [-6.82824913e-01]\n",
            " [-8.21019080e-01]\n",
            " [-6.86624863e-01]\n",
            " [-5.75270491e-01]\n",
            " [-9.70898351e-01]\n",
            " [-5.04398073e-01]\n",
            " [-8.44860373e-01]\n",
            " [-6.70815034e-01]\n",
            " [-8.39731531e-02]\n",
            " [-8.15134509e-01]\n",
            " [-7.97222680e-01]\n",
            " [-9.27546889e-01]\n",
            " [-9.20568907e-01]\n",
            " [-7.48363731e-01]\n",
            " [ 4.14776662e-01]\n",
            " [ 7.71686975e-01]\n",
            " [ 1.99745788e+00]\n",
            " [-2.32275549e-02]\n",
            " [-2.82995007e-01]\n",
            " [ 2.62687474e+00]\n",
            " [-9.76804377e-01]\n",
            " [-6.75407753e-02]\n",
            " [-9.78388264e-01]\n",
            " [-6.72018877e-01]\n",
            " [ 3.32309659e-01]\n",
            " [-2.63335421e-01]\n",
            " [-6.74169438e-01]\n",
            " [ 3.39169186e-02]\n",
            " [-2.66764936e-01]\n",
            " [ 2.22039905e+00]\n",
            " [ 1.42614457e+00]\n",
            " [-5.99688901e-01]\n",
            " [-1.00100914e-01]\n",
            " [ 5.23115516e-01]\n",
            " [-9.77036165e-01]\n",
            " [-3.89803389e-01]\n",
            " [-7.78080137e-01]\n",
            " [-9.77873179e-01]\n",
            " [ 9.63005841e-01]\n",
            " [ 1.69067172e+00]\n",
            " [ 6.35735516e-01]\n",
            " [ 9.47844387e-02]\n",
            " [-5.26152479e-01]\n",
            " [ 9.39946882e-01]\n",
            " [ 9.80053327e-01]\n",
            " [-4.20450292e-01]\n",
            " [ 3.32380370e-01]\n",
            " [ 2.23529484e+00]\n",
            " [-7.48918100e-01]\n",
            " [ 8.90562215e-01]\n",
            " [-3.90069046e-01]\n",
            " [ 9.51912436e-01]\n",
            " [ 3.64455944e-01]\n",
            " [-5.14358421e-02]\n",
            " [-3.09075367e-01]\n",
            " [ 3.00115107e-01]\n",
            " [-3.42731903e-04]\n",
            " [ 1.84669504e+00]\n",
            " [-9.28247118e-01]\n",
            " [-2.34328798e-01]\n",
            " [-1.53382846e-01]\n",
            " [-9.28869903e-01]\n",
            " [-5.82878808e-01]\n",
            " [ 9.80352146e-01]\n",
            " [-9.71732438e-01]\n",
            " [-9.06164535e-01]\n",
            " [-1.86776667e-01]\n",
            " [-7.54434982e-03]\n",
            " [-5.54089568e-01]\n",
            " [-1.01998357e+00]\n",
            " [ 3.94049342e+00]\n",
            " [-9.47706894e-01]\n",
            " [-1.89974340e-01]\n",
            " [ 5.84882402e-01]\n",
            " [-9.05288494e-01]\n",
            " [-7.32426436e-01]\n",
            " [ 1.07463028e+00]\n",
            " [ 2.71421246e-01]\n",
            " [-5.98303957e-01]\n",
            " [ 2.81007745e+00]\n",
            " [ 1.58970221e+00]\n",
            " [-1.32628679e-01]\n",
            " [-9.60611565e-01]\n",
            " [-2.83533686e-01]\n",
            " [ 2.44728292e-01]\n",
            " [-6.15879965e-01]\n",
            " [-9.43756663e-01]\n",
            " [-4.89684253e-01]\n",
            " [ 1.49376661e-01]\n",
            " [-4.71080592e-01]\n",
            " [-1.44252223e-01]\n",
            " [-3.48486695e-01]\n",
            " [-4.94122628e-02]\n",
            " [-7.66297465e-01]\n",
            " [-9.77918868e-01]\n",
            " [-9.86845718e-01]\n",
            " [ 1.81690946e+00]\n",
            " [-5.86203348e-01]\n",
            " [ 5.45768487e-02]\n",
            " [-8.32055767e-01]\n",
            " [ 2.39424410e+00]\n",
            " [-9.67186482e-01]\n",
            " [-4.71005490e-01]\n",
            " [-3.65661433e-01]\n",
            " [-1.57503696e-01]\n",
            " [-4.62431914e-01]\n",
            " [-9.68860509e-01]\n",
            " [-5.41821392e-01]\n",
            " [-1.94460963e-01]\n",
            " [-3.95378303e-01]\n",
            " [-9.10912743e-01]\n",
            " [ 4.56090080e-01]\n",
            " [-5.54893593e-02]\n",
            " [-1.55939710e-01]\n",
            " [-9.32826875e-01]\n",
            " [-7.82018628e-01]\n",
            " [-5.07859049e-02]\n",
            " [-9.47337735e-01]\n",
            " [-8.22107311e-01]\n",
            " [-6.71683352e-01]\n",
            " [ 1.65170000e-02]\n",
            " [-9.74241903e-01]\n",
            " [-3.41151047e-01]\n",
            " [-8.78546945e-01]\n",
            " [-9.20425549e-01]\n",
            " [-5.07288631e-01]\n",
            " [-7.71319357e-01]\n",
            " [-8.86307492e-01]\n",
            " [-5.08474776e-02]\n",
            " [-3.74813587e-01]\n",
            " [ 2.91936740e+00]\n",
            " [-2.65044083e-01]\n",
            " [ 2.10655022e+00]\n",
            " [ 1.92463324e-01]\n",
            " [ 5.93535570e-02]\n",
            " [-5.44286112e-01]\n",
            " [-6.99127134e-01]\n",
            " [-8.28680901e-01]\n",
            " [-3.82697368e-01]\n",
            " [ 1.68220276e-01]\n",
            " [-7.42625411e-01]\n",
            " [-8.86162917e-01]\n",
            " [-8.70456443e-01]\n",
            " [-2.35546272e-01]\n",
            " [-7.97693617e-01]\n",
            " [-2.41126749e-03]\n",
            " [-3.59160503e-01]\n",
            " [-5.58602261e-01]\n",
            " [-8.41425350e-02]\n",
            " [ 1.16264729e+00]\n",
            " [-1.18101510e-01]\n",
            " [-1.49817295e-01]\n",
            " [ 4.89142308e-01]\n",
            " [-9.12747330e-01]\n",
            " [-8.69088258e-01]\n",
            " [-4.71560377e-01]\n",
            " [-1.01833530e+00]\n",
            " [-5.74269406e-01]\n",
            " [-1.01879888e+00]\n",
            " [-5.93629621e-01]\n",
            " [ 5.84011987e-01]\n",
            " [-4.30234992e-01]\n",
            " [-7.48069717e-01]\n",
            " [-7.74874506e-01]\n",
            " [ 1.45256261e-02]\n",
            " [-8.19647880e-01]\n",
            " [-9.45359281e-01]\n",
            " [-9.76973569e-01]\n",
            " [-3.91671487e-01]\n",
            " [-4.03431474e-01]\n",
            " [-8.82441064e-01]\n",
            " [-6.34430665e-01]\n",
            " [-7.02634657e-01]\n",
            " [-3.96749852e-01]\n",
            " [ 2.39546352e+00]\n",
            " [-7.25535537e-01]\n",
            " [-1.00819412e+00]\n",
            " [-1.75356083e-01]\n",
            " [-5.51340422e-01]\n",
            " [-5.12731653e-01]\n",
            " [ 6.73692595e-01]\n",
            " [-3.37522340e-01]\n",
            " [-8.03409076e-01]\n",
            " [-7.64979134e-01]\n",
            " [ 3.95526435e-01]\n",
            " [ 1.78881165e+00]\n",
            " [-3.39792354e-02]\n",
            " [-5.08351883e-01]\n",
            " [-7.88055383e-01]\n",
            " [-9.77574112e-01]\n",
            " [ 1.79066076e-01]\n",
            " [-7.82340152e-01]\n",
            " [-8.55316170e-01]\n",
            " [-8.47355812e-01]\n",
            " [ 3.93439790e-01]\n",
            " [ 1.62426859e-01]\n",
            " [ 2.84851714e+00]\n",
            " [ 1.96629888e+00]\n",
            " [ 1.15953712e+00]\n",
            " [-9.56128824e-01]\n",
            " [ 3.56758649e-01]\n",
            " [-1.60538971e-01]\n",
            " [-5.72463264e-01]\n",
            " [-5.79146318e-01]\n",
            " [-1.00807706e+00]\n",
            " [-4.30885873e-01]\n",
            " [ 2.77061381e+00]\n",
            " [ 3.46963641e-01]\n",
            " [-9.44297503e-01]\n",
            " [ 1.93370497e-02]\n",
            " [ 2.10967949e+00]\n",
            " [-6.53871083e-01]\n",
            " [ 4.65981953e-01]\n",
            " [ 9.63363296e-01]\n",
            " [-4.62581218e-01]\n",
            " [-3.89858995e-01]\n",
            " [-5.29252268e-01]\n",
            " [-8.74384410e-01]\n",
            " [-9.29193529e-02]\n",
            " [ 1.18663461e+00]\n",
            " [-8.29351051e-01]\n",
            " [-1.13775804e-01]\n",
            " [ 8.44008411e-02]\n",
            " [ 2.17712731e-01]\n",
            " [ 9.68347307e-02]\n",
            " [ 4.23311447e-01]\n",
            " [ 4.29124440e-01]\n",
            " [-5.46105359e-01]\n",
            " [-3.32611883e-01]\n",
            " [ 2.58245523e+00]\n",
            " [-2.43729390e-01]\n",
            " [-3.71376597e-01]\n",
            " [-1.66711730e-01]\n",
            " [-4.95815031e-01]\n",
            " [-5.93475702e-01]\n",
            " [-7.21896720e-01]\n",
            " [ 9.97902012e-01]\n",
            " [ 4.22240135e-01]\n",
            " [ 4.97875893e-01]\n",
            " [-1.46928956e-01]\n",
            " [-1.00984474e+00]\n",
            " [-6.92320193e-01]\n",
            " [-9.34400185e-01]\n",
            " [-2.22228699e-01]\n",
            " [-4.61838454e-01]\n",
            " [-5.11999682e-01]\n",
            " [ 2.05281278e+00]\n",
            " [-2.83978351e-01]\n",
            " [-9.85922076e-01]\n",
            " [ 9.46924966e-01]\n",
            " [-1.67473418e-01]\n",
            " [-6.73093431e-01]\n",
            " [-4.95485296e-02]\n",
            " [-2.36656228e-01]\n",
            " [-3.21878722e-01]\n",
            " [-5.53040667e-01]\n",
            " [-6.93045995e-01]\n",
            " [-9.56309104e-01]\n",
            " [ 3.06092919e+00]\n",
            " [ 9.78326326e-02]\n",
            " [-6.21223158e-02]\n",
            " [-6.44160673e-01]\n",
            " [-8.12976330e-01]\n",
            " [-1.82114261e-01]\n",
            " [ 7.58075876e-02]\n",
            " [ 2.18625334e-01]\n",
            " [-2.40146103e-01]\n",
            " [-1.01870874e+00]\n",
            " [-9.97273432e-01]\n",
            " [-4.21081272e-01]\n",
            " [-8.28712867e-01]\n",
            " [-7.11932233e-01]\n",
            " [-2.55617737e-01]\n",
            " [-2.88753308e-02]\n",
            " [ 2.42752713e-01]\n",
            " [-9.34667093e-01]\n",
            " [-7.49145972e-01]\n",
            " [-7.39320321e-01]\n",
            " [-4.38357135e-01]\n",
            " [ 1.22045328e+00]\n",
            " [-3.14020615e-01]\n",
            " [-6.29215528e-02]\n",
            " [ 4.04341208e-01]\n",
            " [ 2.57040857e+00]\n",
            " [-8.39895321e-01]\n",
            " [ 2.62490430e+00]\n",
            " [-5.24711062e-02]\n",
            " [-4.33644914e-01]\n",
            " [-6.70448036e-01]\n",
            " [-7.71147272e-01]\n",
            " [ 2.00833188e+00]\n",
            " [-1.74279087e-01]\n",
            " [-2.79823405e-01]\n",
            " [-6.72648585e-01]\n",
            " [-9.37260045e-01]\n",
            " [ 2.38860118e-01]\n",
            " [ 6.35073453e-01]\n",
            " [-8.47706084e-01]\n",
            " [-5.78935285e-01]\n",
            " [-1.01648099e+00]\n",
            " [-2.05575654e-01]\n",
            " [-2.00844693e-01]\n",
            " [-7.57619163e-01]\n",
            " [-6.94012546e-01]\n",
            " [-9.49653893e-02]\n",
            " [ 2.68455606e-01]\n",
            " [ 9.92116563e-02]\n",
            " [ 1.93335393e+00]\n",
            " [ 2.00394386e-02]\n",
            " [-4.63716747e-01]\n",
            " [-1.81100076e-01]\n",
            " [-3.92719217e-01]\n",
            " [-4.34970088e-01]\n",
            " [ 1.02489665e-01]\n",
            " [ 3.07569531e-01]\n",
            " [ 2.25290928e+00]\n",
            " [-2.83772284e-01]\n",
            " [-3.59520073e-01]\n",
            " [ 1.84563336e+00]\n",
            " [-8.92718257e-01]\n",
            " [-7.89569213e-01]\n",
            " [-7.87923146e-01]\n",
            " [-4.12544799e-01]\n",
            " [ 2.81532718e+00]\n",
            " [ 2.23136498e+00]\n",
            " [ 1.81464795e+00]\n",
            " [-1.57459212e-01]\n",
            " [ 2.48679271e+00]\n",
            " [ 2.98478622e+00]\n",
            " [ 6.83181116e-01]\n",
            " [ 3.20911334e-01]\n",
            " [-8.06279438e-01]\n",
            " [ 1.31683176e+00]\n",
            " [-6.93136135e-01]\n",
            " [-2.50002844e-01]\n",
            " [-9.32917015e-01]\n",
            " [ 2.43214807e+00]\n",
            " [-4.92020177e-02]\n",
            " [-5.07944779e-01]\n",
            " [-9.56954696e-02]\n",
            " [-7.29465786e-01]\n",
            " [-3.32235869e-01]\n",
            " [ 1.92791943e+00]\n",
            " [-5.62982583e-01]\n",
            " [ 2.71015886e-01]\n",
            " [-2.90941418e-01]\n",
            " [-9.60169329e-01]\n",
            " [ 2.28959463e+00]\n",
            " [ 1.02656483e-01]\n",
            " [-7.43714012e-01]\n",
            " [-3.03778731e-01]\n",
            " [ 4.52707858e-01]\n",
            " [-5.11448879e-01]\n",
            " [-8.96737455e-01]\n",
            " [-9.44329110e-01]\n",
            " [-3.59373935e-01]\n",
            " [ 7.37049796e-01]\n",
            " [-9.07522398e-01]\n",
            " [-1.32662042e-01]\n",
            " [ 9.57584591e-01]\n",
            " [ 2.43219615e+00]\n",
            " [-1.90055236e-01]\n",
            " [-9.07311096e-01]\n",
            " [-8.02488854e-01]\n",
            " [ 6.75982997e-01]\n",
            " [-3.15424222e-01]\n",
            " [-9.27368399e-01]\n",
            " [ 2.57550628e+00]\n",
            " [-4.94766581e-01]\n",
            " [ 2.64518355e+00]\n",
            " [-7.38291266e-01]\n",
            " [-1.04916052e-01]\n",
            " [-8.87959580e-01]\n",
            " [ 1.91919747e+00]\n",
            " [-8.21226512e-01]\n",
            " [-2.93420548e-01]\n",
            " [-2.66205548e-01]\n",
            " [-4.21119903e-01]\n",
            " [ 1.32372135e+00]\n",
            " [-1.63706090e-01]\n",
            " [ 2.40211227e-01]\n",
            " [ 1.41746681e+00]\n",
            " [ 2.77234856e+00]\n",
            " [-7.19782617e-01]\n",
            " [ 7.19351239e-01]\n",
            " [-1.01112893e-01]\n",
            " [-7.66334589e-01]\n",
            " [-6.10858229e-01]\n",
            " [-1.94046958e-01]\n",
            " [-2.68631573e-01]\n",
            " [-7.38578985e-01]\n",
            " [-2.89043031e-01]\n",
            " [-9.77318325e-01]\n",
            " [-7.23120203e-01]\n",
            " [-2.12944001e-01]\n",
            " [-8.69886741e-01]\n",
            " [-2.58578921e-02]\n",
            " [ 3.81834810e+00]\n",
            " [-3.21549004e-01]\n",
            " [ 3.24089653e-01]\n",
            " [ 1.72795906e+00]\n",
            " [-2.44885351e-01]\n",
            " [-1.91449154e-01]\n",
            " [-1.65775211e-01]\n",
            " [-9.05520678e-01]\n",
            " [ 7.09717220e-01]\n",
            " [ 7.46775541e-02]\n",
            " [ 5.52911358e-01]\n",
            " [-8.13130426e-01]\n",
            " [-9.42180823e-01]\n",
            " [ 2.11488564e+00]\n",
            " [-5.01223679e-01]\n",
            " [ 7.56727155e-01]\n",
            " [ 9.15800378e-01]\n",
            " [ 2.17406814e+00]\n",
            " [-9.47896808e-01]\n",
            " [ 1.16939154e+00]\n",
            " [-1.01368861e-01]\n",
            " [-5.84748232e-01]\n",
            " [ 2.14574645e+00]\n",
            " [ 5.35794214e-01]\n",
            " [-3.95261865e-01]\n",
            " [ 2.07152602e+00]\n",
            " [-3.04249458e-01]\n",
            " [-6.97367305e-02]\n",
            " [-6.75719907e-01]\n",
            " [ 5.66950021e-01]\n",
            " [-5.77690448e-01]\n",
            " [ 5.51036404e-02]\n",
            " [ 6.30746901e-02]\n",
            " [ 5.22954463e-01]\n",
            " [-9.28536268e-01]\n",
            " [-7.88803158e-01]\n",
            " [ 7.66281995e-01]\n",
            " [-7.47519828e-01]\n",
            " [ 4.14826705e-02]\n",
            " [-1.09635950e-01]\n",
            " [ 3.15361105e-02]\n",
            " [-3.34192258e-01]\n",
            " [-7.14119029e-01]\n",
            " [ 1.04580039e-01]\n",
            " [ 6.43929676e-01]\n",
            " [ 8.46910323e-01]\n",
            " [-6.33670207e-01]\n",
            " [ 1.80559708e+00]\n",
            " [ 1.15326528e+00]\n",
            " [-3.94278521e-01]\n",
            " [-5.26052254e-01]\n",
            " [-4.72325981e-01]\n",
            " [-9.09135699e-01]\n",
            " [-6.11308491e-01]\n",
            " [ 5.03798807e-02]\n",
            " [ 2.04244721e+00]\n",
            " [-2.82744084e-01]\n",
            " [-4.30119098e-01]\n",
            " [-8.86296371e-01]\n",
            " [-1.80414480e-01]\n",
            " [-9.70264445e-01]\n",
            " [-2.59069802e-01]\n",
            " [ 1.32765443e-02]\n",
            " [ 5.15321692e-02]\n",
            " [-6.04167679e-01]\n",
            " [-1.31279911e-01]\n",
            " [-6.80557872e-01]\n",
            " [-9.18274959e-02]\n",
            " [-6.10033499e-01]\n",
            " [-6.41544543e-01]\n",
            " [-7.13386978e-01]\n",
            " [-9.56526844e-01]\n",
            " [-1.54866744e-01]\n",
            " [-9.24903237e-01]\n",
            " [-8.94737605e-03]\n",
            " [-6.15312167e-01]\n",
            " [-4.14147598e-02]\n",
            " [-5.37646810e-01]\n",
            " [-5.11287330e-01]\n",
            " [ 3.52899816e+00]\n",
            " [-7.40679557e-01]\n",
            " [-7.89278622e-01]\n",
            " [-3.10209287e-01]\n",
            " [-6.53110566e-01]\n",
            " [-1.63922580e-01]\n",
            " [-2.84870486e-01]\n",
            " [-1.74123311e-01]\n",
            " [-3.47919921e-01]\n",
            " [-3.96284203e-01]\n",
            " [ 1.54854746e+00]\n",
            " [-4.19465373e-01]\n",
            " [-3.71317075e-01]\n",
            " [ 1.35576797e+00]\n",
            " [-9.04168183e-01]\n",
            " [-5.20996973e-01]\n",
            " [ 2.97431098e+00]\n",
            " [-2.64107228e-01]\n",
            " [-7.57804407e-01]\n",
            " [-9.14575711e-02]\n",
            " [-7.16974085e-01]\n",
            " [ 2.88282487e+00]\n",
            " [ 2.23118846e+00]\n",
            " [ 7.21261185e-01]\n",
            " [-1.00979791e+00]\n",
            " [-2.82581768e-01]\n",
            " [ 6.83506143e-01]\n",
            " [ 5.31114429e-01]\n",
            " [-1.90964784e-01]\n",
            " [-7.33190815e-01]\n",
            " [-9.12669482e-01]\n",
            " [-1.57234447e-01]\n",
            " [-8.14762491e-01]\n",
            " [-6.91000005e-01]\n",
            " [-9.18108104e-01]\n",
            " [ 5.89698366e-01]\n",
            " [ 8.48394149e-01]\n",
            " [ 2.41846912e+00]\n",
            " [-3.44318114e-01]\n",
            " [ 1.95580155e-01]\n",
            " [-4.22933869e-01]\n",
            " [ 2.86656718e+00]\n",
            " [-6.31974173e-01]\n",
            " [-8.35718582e-01]\n",
            " [-5.00870278e-02]\n",
            " [-5.82726624e-01]\n",
            " [ 2.76918078e+00]\n",
            " [-1.62289075e-01]\n",
            " [-4.81304150e-01]\n",
            " [-9.68974794e-01]\n",
            " [-9.06898531e-01]\n",
            " [-7.14673521e-01]\n",
            " [-1.17089485e-01]\n",
            " [ 5.46311946e-01]\n",
            " [-4.12533678e-01]\n",
            " [-8.37172439e-01]\n",
            " [ 3.73110695e-01]\n",
            " [ 6.61057825e-01]\n",
            " [-1.49711305e-01]\n",
            " [ 4.81928433e-01]\n",
            " [-2.24699794e-01]\n",
            " [ 2.31498944e+00]\n",
            " [ 1.01708053e+00]\n",
            " [ 2.15262596e+00]\n",
            " [-8.58085486e-01]\n",
            " [-3.84185321e-01]\n",
            " [-5.70758753e-01]\n",
            " [-9.61535206e-01]\n",
            " [-8.85451163e-01]\n",
            " [ 4.82598124e-01]\n",
            " [-7.10580134e-01]\n",
            " [-6.02211097e-01]\n",
            " [-6.99862461e-01]\n",
            " [-1.00822924e+00]\n",
            " [ 8.69993805e-01]\n",
            " [ 2.71260635e-02]\n",
            " [-3.97185602e-01]\n",
            " [-8.47321863e-01]\n",
            " [ 2.00381042e-01]\n",
            " [-5.20666851e-01]\n",
            " [-9.68954161e-01]\n",
            " [-2.60387581e-01]\n",
            " [ 4.52410462e-02]\n",
            " [ 9.22034371e-01]\n",
            " [ 1.81877798e+00]\n",
            " [ 9.40677349e-02]\n",
            " [-5.58589203e-01]\n",
            " [ 1.00375373e-02]\n",
            " [ 4.87658700e-01]\n",
            " [ 1.40528350e-01]\n",
            " [ 4.69256142e-01]\n",
            " [ 5.27533102e-01]\n",
            " [ 1.08705593e+00]\n",
            " [ 5.16187046e-01]\n",
            " [-6.72717653e-01]\n",
            " [ 7.36561854e-01]\n",
            " [-1.08330496e-01]\n",
            " [-9.34500275e-01]\n",
            " [-1.42709228e-01]\n",
            " [ 5.64314942e-01]\n",
            " [-9.71087410e-01]\n",
            " [-8.88679327e-01]\n",
            " [-1.01876024e+00]\n",
            " [-5.92412450e-01]\n",
            " [ 1.80102342e+00]\n",
            " [-8.16524127e-01]\n",
            " [-9.58784950e-02]\n",
            " [-6.61926015e-01]\n",
            " [-8.49406940e-02]\n",
            " [ 2.88434354e-01]\n",
            " [-3.10872055e-01]\n",
            " [ 2.44052566e+00]\n",
            " [ 7.77270673e-01]\n",
            " [-5.49339321e-01]\n",
            " [ 9.83875540e-01]\n",
            " [-2.97146625e-01]\n",
            " [-5.76358057e-01]\n",
            " [-5.91978725e-01]\n",
            " [-2.42322136e-01]\n",
            " [-1.86899863e-01]\n",
            " [-3.07318190e-01]\n",
            " [-6.40273771e-01]\n",
            " [-1.13827313e-01]\n",
            " [-7.07634715e-01]\n",
            " [-8.83542059e-01]\n",
            " [ 6.52798741e-01]\n",
            " [-9.01967432e-01]\n",
            " [-6.97601779e-01]\n",
            " [-4.04660883e-01]\n",
            " [-1.47407499e-01]\n",
            " [ 8.61796202e-02]\n",
            " [-9.29092145e-01]\n",
            " [-9.70820503e-01]\n",
            " [-2.21696214e-01]\n",
            " [ 2.00347561e-02]\n",
            " [-5.93543600e-01]\n",
            " [-4.44543128e-01]\n",
            " [ 1.17785082e+00]\n",
            " [ 2.42270332e+00]\n",
            " [ 6.46987288e-02]\n",
            " [ 5.42407626e-01]\n",
            " [-9.59291343e-01]\n",
            " [ 1.01908864e+00]\n",
            " [ 8.97335308e-01]\n",
            " [ 1.34359821e+00]\n",
            " [ 1.20441996e+00]\n",
            " [-1.08456252e-01]\n",
            " [-4.87748978e-01]\n",
            " [-3.73455635e-01]\n",
            " [-9.31986350e-01]\n",
            " [-8.56544698e-01]\n",
            " [-3.87861507e-01]\n",
            " [-1.40361232e-01]\n",
            " [-1.26079449e-01]\n",
            " [-4.81789115e-01]\n",
            " [ 1.04818183e+00]\n",
            " [-8.48211556e-01]\n",
            " [ 2.58126231e-01]\n",
            " [ 2.86835271e+00]\n",
            " [-2.04322555e-01]\n",
            " [ 9.83860836e-01]\n",
            " [-3.20032610e-01]\n",
            " [ 3.00260507e+00]\n",
            " [ 1.08444250e+00]\n",
            " [-5.76002180e-01]\n",
            " [-2.96205647e-01]\n",
            " [ 1.28382378e+00]\n",
            " [ 2.33357954e+00]\n",
            " [ 1.99411870e+00]\n",
            " [-7.19664011e-01]\n",
            " [ 6.05342094e-01]\n",
            " [-7.64870264e-01]\n",
            " [ 1.23872877e+00]\n",
            " [ 1.22756445e+00]\n",
            " [-6.11939908e-01]\n",
            " [-6.29581659e-01]\n",
            " [ 2.55572092e+00]\n",
            " [-6.14677676e-01]\n",
            " [-9.47579562e-01]\n",
            " [-5.20719126e-01]\n",
            " [-6.21286979e-01]\n",
            " [-5.21099991e-01]\n",
            " [-3.23971042e-01]\n",
            " [-9.04422214e-01]\n",
            " [-5.57768174e-01]\n",
            " [-1.80169815e-01]\n",
            " [ 2.64048904e+00]\n",
            " [-6.33645160e-01]\n",
            " [ 2.21695341e+00]\n",
            " [ 6.52114728e-02]\n",
            " [-5.89081897e-01]\n",
            " [ 7.73110640e-01]\n",
            " [ 2.09649892e+00]\n",
            " [-3.51591605e-02]\n",
            " [ 2.06075880e+00]\n",
            " [-5.69230143e-01]\n",
            " [-7.90418585e-01]\n",
            " [ 1.53381571e-02]\n",
            " [-6.22043681e-01]\n",
            " [-3.67344791e-01]\n",
            " [ 1.83905129e+00]\n",
            " [-4.30920499e-01]\n",
            " [-9.66296789e-01]\n",
            " [ 1.43608453e+00]\n",
            " [-8.75051679e-01]\n",
            " [ 2.58454450e+00]\n",
            " [-5.59166333e-01]\n",
            " [-6.34970258e-01]\n",
            " [-7.07864217e-01]\n",
            " [-3.40168334e-01]\n",
            " [ 1.92460501e+00]\n",
            " [ 3.59059698e-01]\n",
            " [-8.43290302e-02]\n",
            " [-1.00899016e+00]\n",
            " [ 5.70730402e-01]\n",
            " [-1.00990327e+00]\n",
            " [-7.32997611e-01]\n",
            " [ 4.20299360e-01]\n",
            " [-8.70095037e-03]\n",
            " [-9.01575884e-01]\n",
            " [-5.05711721e-01]\n",
            " [-8.44225204e-01]\n",
            " [ 6.24519052e-02]\n",
            " [ 1.11457350e+00]\n",
            " [-5.02888240e-01]\n",
            " [-8.73086822e-01]\n",
            " [ 2.01292404e+00]\n",
            " [ 2.24053688e+00]\n",
            " [-5.10331630e-01]\n",
            " [ 1.63145637e-01]\n",
            " [-5.61016151e-01]\n",
            " [ 1.47848296e-01]\n",
            " [-1.92928268e-01]\n",
            " [-3.57490539e-01]\n",
            " [ 8.29563414e-01]\n",
            " [-2.83238468e-01]\n",
            " [-5.80678697e-01]\n",
            " [ 5.93315818e-01]\n",
            " [ 1.77452184e+00]\n",
            " [-6.59600193e-01]\n",
            " [-9.72759863e-01]\n",
            " [ 4.15706118e+00]\n",
            " [-3.58330513e-01]\n",
            " [-8.46917787e-01]\n",
            " [ 4.96798330e-02]\n",
            " [-3.04474176e-01]\n",
            " [-4.41907232e-01]\n",
            " [-9.37415741e-01]\n",
            " [-5.13654709e-01]\n",
            " [ 1.64238337e+00]\n",
            " [-9.37347077e-01]\n",
            " [-8.80742260e-01]\n",
            " [ 2.12085746e+00]\n",
            " [-8.96688469e-01]\n",
            " [-1.23795266e-01]\n",
            " [-5.06168982e-01]\n",
            " [-4.58429375e-01]\n",
            " [ 1.37195344e+00]\n",
            " [-9.07497903e-01]\n",
            " [ 4.25623403e+00]\n",
            " [-2.52777213e-01]\n",
            " [-2.38981595e-02]\n",
            " [ 2.27735137e+00]\n",
            " [-5.12511828e-01]\n",
            " [-8.84767694e-01]\n",
            " [-8.92208655e-01]\n",
            " [ 7.78665029e-01]\n",
            " [ 9.78191785e-02]\n",
            " [-7.16991981e-01]\n",
            " [-1.65119110e-01]\n",
            " [-3.78960524e-01]\n",
            " [ 2.17941243e-01]\n",
            " [ 2.02439917e+00]\n",
            " [-6.16651423e-01]\n",
            " [-6.90736992e-01]\n",
            " [-4.57206047e-01]\n",
            " [ 1.43400874e+00]\n",
            " [-4.87167616e-01]\n",
            " [-1.25587023e-01]\n",
            " [ 2.67615588e+00]\n",
            " [-3.71224413e-01]\n",
            " [-2.21604924e-01]\n",
            " [-8.73984048e-01]\n",
            " [-1.81891838e-01]\n",
            " [-7.79870059e-01]\n",
            " [-6.61785053e-01]\n",
            " [ 1.81963861e+00]\n",
            " [-9.76933148e-01]\n",
            " [-1.62844211e-01]\n",
            " [ 1.70451915e+00]\n",
            " [-9.33356009e-01]\n",
            " [ 4.33692259e-02]\n",
            " [-8.55845640e-01]\n",
            " [-5.11428978e-01]\n",
            " [-6.58363795e-01]\n",
            " [-9.75805847e-01]\n",
            " [-7.13075956e-01]]\n"
          ]
        }
      ]
    },
    {
      "cell_type": "code",
      "source": [
        "train_y = object.fit_transform(y_train)"
      ],
      "metadata": {
        "id": "5DXTEAPcz1_l"
      },
      "execution_count": 334,
      "outputs": []
    },
    {
      "cell_type": "code",
      "source": [
        "x_test=x_test.array.reshape(-1,1)\n"
      ],
      "metadata": {
        "id": "tw5Xt3kUz4wp"
      },
      "execution_count": 337,
      "outputs": []
    },
    {
      "cell_type": "code",
      "source": [
        "test_x = object.fit_transform(x_test)"
      ],
      "metadata": {
        "id": "iY0EIrbM0VnI"
      },
      "execution_count": 338,
      "outputs": []
    },
    {
      "cell_type": "code",
      "source": [
        "test_y = object.fit_transform(y_test)"
      ],
      "metadata": {
        "id": "sFIr6oYy0au3"
      },
      "execution_count": 339,
      "outputs": []
    },
    {
      "cell_type": "code",
      "source": [
        "#sns.boxenplot(x = x_train_2)\n",
        "sns.boxenplot(x = x_test_2)"
      ],
      "metadata": {
        "colab": {
          "base_uri": "https://localhost:8080/",
          "height": 467
        },
        "id": "EmjdklMU28_j",
        "outputId": "b60e2cf1-0500-4020-89b8-bb62a695311d"
      },
      "execution_count": 285,
      "outputs": [
        {
          "output_type": "execute_result",
          "data": {
            "text/plain": [
              "<Axes: xlabel='charges'>"
            ]
          },
          "metadata": {},
          "execution_count": 285
        },
        {
          "output_type": "display_data",
          "data": {
            "text/plain": [
              "<Figure size 640x480 with 1 Axes>"
            ],
            "image/png": "[encoded data removed]"
          },
          "metadata": {}
        }
      ]
    },
    {
      "cell_type": "code",
      "source": [
        "#Model Seçimi ve Cross Volidation\n",
        "from sklearn.datasets import make_regression\n",
        "from sklearn.linear_model import LogisticRegression\n",
        "from sklearn.model_selection import KFold, cross_val_predict, cross_val_score\n",
        "from sklearn import metrics\n",
        "from sklearn.model_selection import KFold\n",
        "from sklearn.model_selection import RepeatedKFold\n",
        "from sklearn.datasets import make_classification"
      ],
      "metadata": {
        "id": "XmEK5YIX3nmd"
      },
      "execution_count": 247,
      "outputs": []
    },
    {
      "cell_type": "code",
      "source": [
        "#Logistic Regression\n",
        "cv = RepeatedKFold(n_splits=10, n_repeats=3, random_state=1)\n",
        "x_train_2, y_train_2 = make_classification(random_state=1)\n",
        "score = cross_val_score(LogisticRegression(),\n",
        "                      x_train_2, y_train_2, cv=cv, scoring=\"accuracy\", n_jobs=-1)\n",
        "print('Accuracy: %.3f (%.3f)' % (score.mean(), score.std()))"
      ],
      "metadata": {
        "colab": {
          "base_uri": "https://localhost:8080/"
        },
        "id": "Aat9NHb16Rjd",
        "outputId": "ae864e20-2a3a-413f-a65a-6586e4782882"
      },
      "execution_count": 248,
      "outputs": [
        {
          "output_type": "stream",
          "name": "stdout",
          "text": [
            "Accuracy: 0.947 (0.067)\n"
          ]
        }
      ]
    },
    {
      "cell_type": "code",
      "source": [
        "#Rondom  Forest\n",
        "from sklearn.ensemble import RandomForestClassifier\n",
        "cv = RepeatedKFold(n_splits=10, n_repeats=3, random_state=1)\n",
        "x_train_2, y_train_2 = make_classification(random_state=1)\n",
        "score = cross_val_score(RandomForestClassifier(),\n",
        "                      x_train_2, y_train_2, cv=cv, scoring=\"accuracy\", n_jobs=-1)\n",
        "print('Accuracy: %.3f (%.3f)' % (score.mean(), score.std()))"
      ],
      "metadata": {
        "colab": {
          "base_uri": "https://localhost:8080/"
        },
        "id": "NG7LLk37KWX1",
        "outputId": "adf66186-94d1-417c-b307-fdf28052b39b"
      },
      "execution_count": 249,
      "outputs": [
        {
          "output_type": "stream",
          "name": "stdout",
          "text": [
            "Accuracy: 0.957 (0.062)\n"
          ]
        }
      ]
    },
    {
      "cell_type": "code",
      "source": [
        "#DesicionTree Classifier\n",
        "from sklearn.tree import DecisionTreeClassifier\n",
        "cv = RepeatedKFold(n_splits=10, n_repeats=3, random_state=1)\n",
        "x_train_2, y_train_2 = make_classification(random_state=1)\n",
        "score = cross_val_score(DecisionTreeClassifier(),\n",
        "                      x_train_2, y_train_2, cv=cv, scoring=\"accuracy\", n_jobs=-1)\n",
        "print('Accuracy: %.3f (%.3f)' % (score.mean(), score.std()))"
      ],
      "metadata": {
        "colab": {
          "base_uri": "https://localhost:8080/"
        },
        "id": "NKyvwHWVMnqq",
        "outputId": "9e942ce8-6e07-441c-c1e2-ffc95ff252ed"
      },
      "execution_count": 250,
      "outputs": [
        {
          "output_type": "stream",
          "name": "stdout",
          "text": [
            "Accuracy: 0.940 (0.066)\n"
          ]
        }
      ]
    },
    {
      "cell_type": "code",
      "source": [
        "from sklearn.ensemble import RandomForestRegressor\n",
        "rf = RandomForestRegressor(random_state = 42)"
      ],
      "metadata": {
        "id": "8QmuBQHpbPIv"
      },
      "execution_count": 251,
      "outputs": []
    },
    {
      "cell_type": "code",
      "source": [
        "#Hiper Parametreleri ayarlıyoruz.\n",
        "from sklearn.model_selection import RandomizedSearchCV\n",
        "n_estimators = [int(x) for x in np.linspace(start = 200, stop = 2000, num = 10)]\n",
        "max_features = ['auto', 'sqrt']\n",
        "max_depth = [int(x) for x in np.linspace(10, 110, num = 11)]\n",
        "max_depth.append(None)\n",
        "\n",
        "min_samples_split = [2, 5, 10]\n",
        "min_samples_leaf = [1, 2, 4]\n",
        "bootstrap = [True, False]\n",
        "random_grid = {'n_estimators': n_estimators,\n",
        "               'max_features': max_features,\n",
        "               'max_depth': max_depth,\n",
        "               'min_samples_split': min_samples_split,\n",
        "               'min_samples_leaf': min_samples_leaf,\n",
        "               'bootstrap': bootstrap}\n",
        "print(random_grid)\n"
      ],
      "metadata": {
        "colab": {
          "base_uri": "https://localhost:8080/"
        },
        "id": "AHu7CB79N773",
        "outputId": "766485e1-3edf-4cf8-f142-841ec80e02a0"
      },
      "execution_count": 252,
      "outputs": [
        {
          "output_type": "stream",
          "name": "stdout",
          "text": [
            "{'n_estimators': [200, 400, 600, 800, 1000, 1200, 1400, 1600, 1800, 2000], 'max_features': ['auto', 'sqrt'], 'max_depth': [10, 20, 30, 40, 50, 60, 70, 80, 90, 100, 110, None], 'min_samples_split': [2, 5, 10], 'min_samples_leaf': [1, 2, 4], 'bootstrap': [True, False]}\n"
          ]
        }
      ]
    },
    {
      "cell_type": "code",
      "source": [
        "rf = RandomForestRegressor(random_state = 42)\n",
        "rf_random = RandomizedSearchCV(estimator=rf, param_distributions=random_grid,\n",
        "                              n_iter = 100, scoring='neg_mean_absolute_error',\n",
        "                              cv = 3, verbose=2, random_state=42, n_jobs=-1,\n",
        "                              return_train_score=True)\n",
        "\n",
        "\n",
        "rf_random.fit(train_x,train_y);"
      ],
      "metadata": {
        "colab": {
          "base_uri": "https://localhost:8080/"
        },
        "id": "PuVuxcima6sn",
        "outputId": "d30fba4f-d235-44f4-e1b7-dc680e09c664"
      },
      "execution_count": 341,
      "outputs": [
        {
          "output_type": "stream",
          "name": "stdout",
          "text": [
            "Fitting 3 folds for each of 100 candidates, totalling 300 fits\n"
          ]
        },
        {
          "output_type": "stream",
          "name": "stderr",
          "text": [
            "/usr/local/lib/python3.10/dist-packages/sklearn/ensemble/_forest.py:413: FutureWarning: `max_features='auto'` has been deprecated in 1.1 and will be removed in 1.3. To keep the past behaviour, explicitly set `max_features=1.0` or remove this parameter as it is also the default value for RandomForestRegressors and ExtraTreesRegressors.\n",
            "  warn(\n"
          ]
        }
      ]
    },
    {
      "cell_type": "code",
      "source": [
        "#En iyi parametreleri belirledik.\n",
        "rf_random.best_params_"
      ],
      "metadata": {
        "colab": {
          "base_uri": "https://localhost:8080/"
        },
        "id": "evsHBjoIdXHm",
        "outputId": "b85102dd-9b39-4c63-ebf5-3c66005ed41b"
      },
      "execution_count": 343,
      "outputs": [
        {
          "output_type": "execute_result",
          "data": {
            "text/plain": [
              "{'n_estimators': 800,\n",
              " 'min_samples_split': 2,\n",
              " 'min_samples_leaf': 1,\n",
              " 'max_features': 'auto',\n",
              " 'max_depth': 100,\n",
              " 'bootstrap': True}"
            ]
          },
          "metadata": {},
          "execution_count": 343
        }
      ]
    },
    {
      "cell_type": "code",
      "source": [
        "#Modeli oluşturuyoruz.\n",
        "from sklearn.ensemble import RandomForestRegressor\n",
        "regressor = RandomForestRegressor(n_estimators = 800, min_samples_split =2,\n",
        "                                   min_samples_leaf=1, max_features='auto',\n",
        "                                  max_depth=100, bootstrap=True, random_state = 42)"
      ],
      "metadata": {
        "id": "kpjtYIMthdKX"
      },
      "execution_count": 344,
      "outputs": []
    },
    {
      "cell_type": "code",
      "source": [
        "regressor.fit(train_x, train_y)"
      ],
      "metadata": {
        "colab": {
          "base_uri": "https://localhost:8080/",
          "height": 149
        },
        "id": "-dTjR_4BmW2E",
        "outputId": "fdd20775-c079-4878-c8a3-557c1608122b"
      },
      "execution_count": 345,
      "outputs": [
        {
          "output_type": "stream",
          "name": "stderr",
          "text": [
            "/usr/local/lib/python3.10/dist-packages/sklearn/ensemble/_forest.py:413: FutureWarning: `max_features='auto'` has been deprecated in 1.1 and will be removed in 1.3. To keep the past behaviour, explicitly set `max_features=1.0` or remove this parameter as it is also the default value for RandomForestRegressors and ExtraTreesRegressors.\n",
            "  warn(\n"
          ]
        },
        {
          "output_type": "execute_result",
          "data": {
            "text/plain": [
              "RandomForestRegressor(max_depth=100, max_features='auto', n_estimators=800,\n",
              "                      random_state=42)"
            ],
            "text/html": [
              "<style>#sk-container-id-2 {color: black;background-color: white;}#sk-container-id-2 pre{padding: 0;}#sk-container-id-2 div.sk-toggleable {background-color: white;}#sk-container-id-2 label.sk-toggleable__label {cursor: pointer;display: block;width: 100%;margin-bottom: 0;padding: 0.3em;box-sizing: border-box;text-align: center;}#sk-container-id-2 label.sk-toggleable__label-arrow:before {content: \"▸\";float: left;margin-right: 0.25em;color: #696969;}#sk-container-id-2 label.sk-toggleable__label-arrow:hover:before {color: black;}#sk-container-id-2 div.sk-estimator:hover label.sk-toggleable__label-arrow:before {color: black;}#sk-container-id-2 div.sk-toggleable__content {max-height: 0;max-width: 0;overflow: hidden;text-align: left;background-color: #f0f8ff;}#sk-container-id-2 div.sk-toggleable__content pre {margin: 0.2em;color: black;border-radius: 0.25em;background-color: #f0f8ff;}#sk-container-id-2 input.sk-toggleable__control:checked~div.sk-toggleable__content {max-height: 200px;max-width: 100%;overflow: auto;}#sk-container-id-2 input.sk-toggleable__control:checked~label.sk-toggleable__label-arrow:before {content: \"▾\";}#sk-container-id-2 div.sk-estimator input.sk-toggleable__control:checked~label.sk-toggleable__label {background-color: #d4ebff;}#sk-container-id-2 div.sk-label input.sk-toggleable__control:checked~label.sk-toggleable__label {background-color: #d4ebff;}#sk-container-id-2 input.sk-hidden--visually {border: 0;clip: rect(1px 1px 1px 1px);clip: rect(1px, 1px, 1px, 1px);height: 1px;margin: -1px;overflow: hidden;padding: 0;position: absolute;width: 1px;}#sk-container-id-2 div.sk-estimator {font-family: monospace;background-color: #f0f8ff;border: 1px dotted black;border-radius: 0.25em;box-sizing: border-box;margin-bottom: 0.5em;}#sk-container-id-2 div.sk-estimator:hover {background-color: #d4ebff;}#sk-container-id-2 div.sk-parallel-item::after {content: \"\";width: 100%;border-bottom: 1px solid gray;flex-grow: 1;}#sk-container-id-2 div.sk-label:hover label.sk-toggleable__label {background-color: #d4ebff;}#sk-container-id-2 div.sk-serial::before {content: \"\";position: absolute;border-left: 1px solid gray;box-sizing: border-box;top: 0;bottom: 0;left: 50%;z-index: 0;}#sk-container-id-2 div.sk-serial {display: flex;flex-direction: column;align-items: center;background-color: white;padding-right: 0.2em;padding-left: 0.2em;position: relative;}#sk-container-id-2 div.sk-item {position: relative;z-index: 1;}#sk-container-id-2 div.sk-parallel {display: flex;align-items: stretch;justify-content: center;background-color: white;position: relative;}#sk-container-id-2 div.sk-item::before, #sk-container-id-2 div.sk-parallel-item::before {content: \"\";position: absolute;border-left: 1px solid gray;box-sizing: border-box;top: 0;bottom: 0;left: 50%;z-index: -1;}#sk-container-id-2 div.sk-parallel-item {display: flex;flex-direction: column;z-index: 1;position: relative;background-color: white;}#sk-container-id-2 div.sk-parallel-item:first-child::after {align-self: flex-end;width: 50%;}#sk-container-id-2 div.sk-parallel-item:last-child::after {align-self: flex-start;width: 50%;}#sk-container-id-2 div.sk-parallel-item:only-child::after {width: 0;}#sk-container-id-2 div.sk-dashed-wrapped {border: 1px dashed gray;margin: 0 0.4em 0.5em 0.4em;box-sizing: border-box;padding-bottom: 0.4em;background-color: white;}#sk-container-id-2 div.sk-label label {font-family: monospace;font-weight: bold;display: inline-block;line-height: 1.2em;}#sk-container-id-2 div.sk-label-container {text-align: center;}#sk-container-id-2 div.sk-container {/* jupyter's `normalize.less` sets `[hidden] { display: none; }` but bootstrap.min.css set `[hidden] { display: none !important; }` so we also need the `!important` here to be able to override the default hidden behavior on the sphinx rendered scikit-learn.org. See: https://github.com/scikit-learn/scikit-learn/issues/21755 */display: inline-block !important;position: relative;}#sk-container-id-2 div.sk-text-repr-fallback {display: none;}</style><div id=\"sk-container-id-2\" class=\"sk-top-container\"><div class=\"sk-text-repr-fallback\"><pre>RandomForestRegressor(max_depth=100, max_features=&#x27;auto&#x27;, n_estimators=800,\n",
              "                      random_state=42)</pre><b>In a Jupyter environment, please rerun this cell to show the HTML representation or trust the notebook. <br />On GitHub, the HTML representation is unable to render, please try loading this page with nbviewer.org.</b></div><div class=\"sk-container\" hidden><div class=\"sk-item\"><div class=\"sk-estimator sk-toggleable\"><input class=\"sk-toggleable__control sk-hidden--visually\" id=\"sk-estimator-id-2\" type=\"checkbox\" checked><label for=\"sk-estimator-id-2\" class=\"sk-toggleable__label sk-toggleable__label-arrow\">RandomForestRegressor</label><div class=\"sk-toggleable__content\"><pre>RandomForestRegressor(max_depth=100, max_features=&#x27;auto&#x27;, n_estimators=800,\n",
              "                      random_state=42)</pre></div></div></div></div></div>"
            ]
          },
          "metadata": {},
          "execution_count": 345
        }
      ]
    },
    {
      "cell_type": "code",
      "source": [
        "y_pred = regressor.predict(test_x)"
      ],
      "metadata": {
        "id": "h5787HLhnSRv"
      },
      "execution_count": 346,
      "outputs": []
    },
    {
      "cell_type": "code",
      "source": [
        "y_pred"
      ],
      "metadata": {
        "colab": {
          "base_uri": "https://localhost:8080/"
        },
        "id": "VwN1ovXwBrIw",
        "outputId": "a023d933-491e-4db0-a894-a8fa7dc4f219"
      },
      "execution_count": 348,
      "outputs": [
        {
          "output_type": "execute_result",
          "data": {
            "text/plain": [
              "array([[ 0.76249792, -0.54914744,  1.17650861, ..., -0.5462497 ,\n",
              "         0.8819081 , -0.09360784],\n",
              "       [ 0.65976736,  0.94876638, -0.34228943, ..., -0.2767181 ,\n",
              "        -0.61852256,  0.94698701],\n",
              "       [ 0.85166198, -0.30658042,  0.54399182, ...,  0.92445531,\n",
              "        -0.31396587, -0.58228498],\n",
              "       ...,\n",
              "       [ 0.71653247,  0.94876638,  0.19597476, ...,  1.48695604,\n",
              "        -0.54308192, -0.37531584],\n",
              "       [ 1.47929128, -0.94425659,  0.61451003, ...,  0.21839972,\n",
              "        -0.54308192,  0.87512272],\n",
              "       [ 1.63012938,  0.97877467,  0.01728645, ...,  0.95375223,\n",
              "        -0.54587601,  0.12198502]])"
            ]
          },
          "metadata": {},
          "execution_count": 348
        }
      ]
    },
    {
      "cell_type": "code",
      "source": [
        "#Mean Squared Eror\n",
        "from sklearn import metrics\n",
        "print('Mean Absolute Error:', metrics.mean_absolute_error(test_y, y_pred))\n",
        "print('Mean Squared Error:', metrics.mean_squared_error(test_y, y_pred))\n",
        "print('Root Mean Squared Error:', np.sqrt(metrics.mean_squared_error(test_y, y_pred)))"
      ],
      "metadata": {
        "colab": {
          "base_uri": "https://localhost:8080/"
        },
        "id": "29QpRt5iBA5x",
        "outputId": "5d648057-5ecd-48f6-8078-7800485e735e"
      },
      "execution_count": 347,
      "outputs": [
        {
          "output_type": "stream",
          "name": "stdout",
          "text": [
            "Mean Absolute Error: 0.7714907532729633\n",
            "Mean Squared Error: 1.226451772166331\n",
            "Root Mean Squared Error: 1.1074528306733118\n"
          ]
        }
      ]
    }
  ]
}